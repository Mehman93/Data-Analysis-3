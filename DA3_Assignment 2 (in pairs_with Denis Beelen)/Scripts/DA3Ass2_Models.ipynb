{
 "cells": [
  {
   "cell_type": "code",
   "execution_count": 3,
   "metadata": {},
   "outputs": [],
   "source": [
    "import os\n",
    "import sys\n",
    "import warnings\n",
    "\n",
    "import matplotlib.pyplot as plt\n",
    "import numpy as np\n",
    "import pandas as pd\n",
    "import patsy\n",
    "import sklearn.metrics as metrics\n",
    "import xgboost as xgb\n",
    "from sklearn.tree import DecisionTreeClassifier\n",
    "from sklearn.tree import plot_tree\n",
    "import statsmodels.formula.api as smf\n",
    "from plotnine import *\n",
    "from sklearn.ensemble import RandomForestClassifier\n",
    "from sklearn.linear_model import (\n",
    "    LinearRegression,\n",
    "    LogisticRegression,\n",
    "    LogisticRegressionCV,\n",
    ")\n",
    "from sklearn.metrics import (\n",
    "    auc,\n",
    "    brier_score_loss,\n",
    "    confusion_matrix,\n",
    "    mean_squared_error,\n",
    "    roc_auc_score,\n",
    "    roc_curve,\n",
    ")\n",
    "from sklearn.model_selection import GridSearchCV, KFold, train_test_split\n",
    "from sklearn.preprocessing import StandardScaler\n",
    "from statsmodels.tools.eval_measures import rmse\n",
    "from sklearn.ensemble import RandomForestClassifier\n",
    "\n",
    "\n",
    "warnings.filterwarnings(\"ignore\")"
   ]
  },
  {
   "cell_type": "code",
   "execution_count": null,
   "metadata": {},
   "outputs": [],
   "source": [
    "# Current script folder\n",
    "path = os.getcwd()\n",
    "base_dir = path.split(\"da_case_studies\")[0]\n",
    "\n",
    "# Set the location of your data directory\n",
    "data_dir = base_dir + \"da_data_repo\"\n",
    "\n",
    "# location folders\n",
    "data_in = os.path.join(data_dir, \"bisnode-firms/clean/\")\n",
    "data_out = os.path.join(data_dir, \"bisnode-firms/\")\n",
    "output = os.path.join(data_out, \"output/\")\n",
    "func = os.path.join(base_dir, \"da_case_studies/ch00-tech-prep/\")\n",
    "sys.path.append(func)"
   ]
  },
  {
   "cell_type": "markdown",
   "metadata": {},
   "source": [
    "## Import data"
   ]
  },
  {
   "cell_type": "code",
   "execution_count": 120,
   "metadata": {},
   "outputs": [],
   "source": [
    "# !!! make sure you have run ch17-firm-exit-data-prep.ipynb before\n",
    "data_import = pd.read_csv(data_out + \"bisnode_firms_clean.csv\")"
   ]
  },
  {
   "cell_type": "code",
   "execution_count": 121,
   "metadata": {},
   "outputs": [],
   "source": [
    "data = data_import.copy()"
   ]
  },
  {
   "cell_type": "code",
   "execution_count": 125,
   "metadata": {},
   "outputs": [
    {
     "data": {
      "text/html": [
       "<div>\n",
       "<style scoped>\n",
       "    .dataframe tbody tr th:only-of-type {\n",
       "        vertical-align: middle;\n",
       "    }\n",
       "\n",
       "    .dataframe tbody tr th {\n",
       "        vertical-align: top;\n",
       "    }\n",
       "\n",
       "    .dataframe thead th {\n",
       "        text-align: right;\n",
       "    }\n",
       "</style>\n",
       "<table border=\"1\" class=\"dataframe\">\n",
       "  <thead>\n",
       "    <tr style=\"text-align: right;\">\n",
       "      <th></th>\n",
       "      <th>year</th>\n",
       "      <th>comp_id</th>\n",
       "      <th>amort</th>\n",
       "      <th>curr_assets</th>\n",
       "      <th>curr_liab</th>\n",
       "      <th>extra_exp</th>\n",
       "      <th>extra_inc</th>\n",
       "      <th>extra_profit_loss</th>\n",
       "      <th>fixed_assets</th>\n",
       "      <th>inc_bef_tax</th>\n",
       "      <th>...</th>\n",
       "      <th>flag_high_ceo_age</th>\n",
       "      <th>flag_miss_ceo_age</th>\n",
       "      <th>ceo_young</th>\n",
       "      <th>labor_avg_mod</th>\n",
       "      <th>flag_miss_labor_avg</th>\n",
       "      <th>sales_mil_log_sq</th>\n",
       "      <th>flag_low_d1_sales_mil_log</th>\n",
       "      <th>flag_high_d1_sales_mil_log</th>\n",
       "      <th>d1_sales_mil_log_mod</th>\n",
       "      <th>d1_sales_mil_log_mod_sq</th>\n",
       "    </tr>\n",
       "  </thead>\n",
       "  <tbody>\n",
       "    <tr>\n",
       "      <th>count</th>\n",
       "      <td>113829.000000</td>\n",
       "      <td>1.138290e+05</td>\n",
       "      <td>1.138290e+05</td>\n",
       "      <td>1.138290e+05</td>\n",
       "      <td>1.138290e+05</td>\n",
       "      <td>1.138250e+05</td>\n",
       "      <td>1.138250e+05</td>\n",
       "      <td>1.138240e+05</td>\n",
       "      <td>1.138290e+05</td>\n",
       "      <td>1.138290e+05</td>\n",
       "      <td>...</td>\n",
       "      <td>113829.000000</td>\n",
       "      <td>113829.000000</td>\n",
       "      <td>113829.000000</td>\n",
       "      <td>113829.000000</td>\n",
       "      <td>113829.000000</td>\n",
       "      <td>1.138290e+05</td>\n",
       "      <td>113829.000000</td>\n",
       "      <td>113829.000000</td>\n",
       "      <td>113829.000000</td>\n",
       "      <td>113829.000000</td>\n",
       "    </tr>\n",
       "    <tr>\n",
       "      <th>mean</th>\n",
       "      <td>2012.560297</td>\n",
       "      <td>1.536026e+11</td>\n",
       "      <td>2.127103e+04</td>\n",
       "      <td>2.320420e+05</td>\n",
       "      <td>1.845557e+05</td>\n",
       "      <td>1.396754e+03</td>\n",
       "      <td>3.849341e+03</td>\n",
       "      <td>2.457023e+03</td>\n",
       "      <td>2.594767e+05</td>\n",
       "      <td>2.177122e+04</td>\n",
       "      <td>...</td>\n",
       "      <td>0.004841</td>\n",
       "      <td>0.144805</td>\n",
       "      <td>0.249778</td>\n",
       "      <td>1.014747</td>\n",
       "      <td>0.176967</td>\n",
       "      <td>1.171803e+01</td>\n",
       "      <td>0.037574</td>\n",
       "      <td>0.023500</td>\n",
       "      <td>-0.008293</td>\n",
       "      <td>0.288177</td>\n",
       "    </tr>\n",
       "    <tr>\n",
       "      <th>std</th>\n",
       "      <td>1.696856</td>\n",
       "      <td>1.379119e+11</td>\n",
       "      <td>2.373055e+05</td>\n",
       "      <td>1.897016e+06</td>\n",
       "      <td>1.868143e+06</td>\n",
       "      <td>5.595210e+04</td>\n",
       "      <td>2.309933e+05</td>\n",
       "      <td>2.289301e+05</td>\n",
       "      <td>2.825445e+06</td>\n",
       "      <td>4.624466e+05</td>\n",
       "      <td>...</td>\n",
       "      <td>0.069406</td>\n",
       "      <td>0.351906</td>\n",
       "      <td>0.432886</td>\n",
       "      <td>4.197761</td>\n",
       "      <td>0.381643</td>\n",
       "      <td>1.019002e+01</td>\n",
       "      <td>0.190164</td>\n",
       "      <td>0.151486</td>\n",
       "      <td>0.536759</td>\n",
       "      <td>0.601358</td>\n",
       "    </tr>\n",
       "    <tr>\n",
       "      <th>min</th>\n",
       "      <td>2010.000000</td>\n",
       "      <td>1.001034e+06</td>\n",
       "      <td>-5.780000e+04</td>\n",
       "      <td>0.000000e+00</td>\n",
       "      <td>-8.759259e+03</td>\n",
       "      <td>-1.335852e+05</td>\n",
       "      <td>-2.550000e+04</td>\n",
       "      <td>-5.514540e+06</td>\n",
       "      <td>0.000000e+00</td>\n",
       "      <td>-2.320988e+07</td>\n",
       "      <td>...</td>\n",
       "      <td>0.000000</td>\n",
       "      <td>0.000000</td>\n",
       "      <td>0.000000</td>\n",
       "      <td>0.000000</td>\n",
       "      <td>0.000000</td>\n",
       "      <td>3.087363e-09</td>\n",
       "      <td>0.000000</td>\n",
       "      <td>0.000000</td>\n",
       "      <td>-1.500000</td>\n",
       "      <td>0.000000</td>\n",
       "    </tr>\n",
       "    <tr>\n",
       "      <th>25%</th>\n",
       "      <td>2011.000000</td>\n",
       "      <td>2.877840e+10</td>\n",
       "      <td>1.777778e+02</td>\n",
       "      <td>3.833333e+03</td>\n",
       "      <td>3.722222e+03</td>\n",
       "      <td>0.000000e+00</td>\n",
       "      <td>0.000000e+00</td>\n",
       "      <td>0.000000e+00</td>\n",
       "      <td>3.962963e+02</td>\n",
       "      <td>-5.125926e+03</td>\n",
       "      <td>...</td>\n",
       "      <td>0.000000</td>\n",
       "      <td>0.000000</td>\n",
       "      <td>0.000000</td>\n",
       "      <td>0.152778</td>\n",
       "      <td>0.000000</td>\n",
       "      <td>3.771318e+00</td>\n",
       "      <td>0.000000</td>\n",
       "      <td>0.000000</td>\n",
       "      <td>-0.150288</td>\n",
       "      <td>0.001245</td>\n",
       "    </tr>\n",
       "    <tr>\n",
       "      <th>50%</th>\n",
       "      <td>2013.000000</td>\n",
       "      <td>1.148665e+11</td>\n",
       "      <td>1.066667e+03</td>\n",
       "      <td>1.305556e+04</td>\n",
       "      <td>1.528519e+04</td>\n",
       "      <td>0.000000e+00</td>\n",
       "      <td>0.000000e+00</td>\n",
       "      <td>0.000000e+00</td>\n",
       "      <td>5.711111e+03</td>\n",
       "      <td>5.222222e+02</td>\n",
       "      <td>...</td>\n",
       "      <td>0.000000</td>\n",
       "      <td>0.000000</td>\n",
       "      <td>0.000000</td>\n",
       "      <td>0.348485</td>\n",
       "      <td>0.000000</td>\n",
       "      <td>9.234980e+00</td>\n",
       "      <td>0.000000</td>\n",
       "      <td>0.000000</td>\n",
       "      <td>0.000000</td>\n",
       "      <td>0.027430</td>\n",
       "    </tr>\n",
       "    <tr>\n",
       "      <th>75%</th>\n",
       "      <td>2014.000000</td>\n",
       "      <td>2.576837e+11</td>\n",
       "      <td>4.722222e+03</td>\n",
       "      <td>4.639259e+04</td>\n",
       "      <td>5.206296e+04</td>\n",
       "      <td>0.000000e+00</td>\n",
       "      <td>0.000000e+00</td>\n",
       "      <td>0.000000e+00</td>\n",
       "      <td>4.729259e+04</td>\n",
       "      <td>5.711111e+03</td>\n",
       "      <td>...</td>\n",
       "      <td>0.000000</td>\n",
       "      <td>0.000000</td>\n",
       "      <td>0.000000</td>\n",
       "      <td>1.033012</td>\n",
       "      <td>0.000000</td>\n",
       "      <td>1.671651e+01</td>\n",
       "      <td>0.000000</td>\n",
       "      <td>0.000000</td>\n",
       "      <td>0.178348</td>\n",
       "      <td>0.190346</td>\n",
       "    </tr>\n",
       "    <tr>\n",
       "      <th>max</th>\n",
       "      <td>2015.000000</td>\n",
       "      <td>4.641050e+11</td>\n",
       "      <td>2.799496e+07</td>\n",
       "      <td>1.411015e+08</td>\n",
       "      <td>3.264051e+08</td>\n",
       "      <td>1.391812e+07</td>\n",
       "      <td>7.233078e+07</td>\n",
       "      <td>7.233078e+07</td>\n",
       "      <td>4.513921e+08</td>\n",
       "      <td>7.921782e+07</td>\n",
       "      <td>...</td>\n",
       "      <td>1.000000</td>\n",
       "      <td>1.000000</td>\n",
       "      <td>1.000000</td>\n",
       "      <td>182.260422</td>\n",
       "      <td>1.000000</td>\n",
       "      <td>4.771708e+01</td>\n",
       "      <td>1.000000</td>\n",
       "      <td>1.000000</td>\n",
       "      <td>1.500000</td>\n",
       "      <td>2.250000</td>\n",
       "    </tr>\n",
       "  </tbody>\n",
       "</table>\n",
       "<p>8 rows × 108 columns</p>\n",
       "</div>"
      ],
      "text/plain": [
       "                year       comp_id         amort   curr_assets     curr_liab  \\\n",
       "count  113829.000000  1.138290e+05  1.138290e+05  1.138290e+05  1.138290e+05   \n",
       "mean     2012.560297  1.536026e+11  2.127103e+04  2.320420e+05  1.845557e+05   \n",
       "std         1.696856  1.379119e+11  2.373055e+05  1.897016e+06  1.868143e+06   \n",
       "min      2010.000000  1.001034e+06 -5.780000e+04  0.000000e+00 -8.759259e+03   \n",
       "25%      2011.000000  2.877840e+10  1.777778e+02  3.833333e+03  3.722222e+03   \n",
       "50%      2013.000000  1.148665e+11  1.066667e+03  1.305556e+04  1.528519e+04   \n",
       "75%      2014.000000  2.576837e+11  4.722222e+03  4.639259e+04  5.206296e+04   \n",
       "max      2015.000000  4.641050e+11  2.799496e+07  1.411015e+08  3.264051e+08   \n",
       "\n",
       "          extra_exp     extra_inc  extra_profit_loss  fixed_assets  \\\n",
       "count  1.138250e+05  1.138250e+05       1.138240e+05  1.138290e+05   \n",
       "mean   1.396754e+03  3.849341e+03       2.457023e+03  2.594767e+05   \n",
       "std    5.595210e+04  2.309933e+05       2.289301e+05  2.825445e+06   \n",
       "min   -1.335852e+05 -2.550000e+04      -5.514540e+06  0.000000e+00   \n",
       "25%    0.000000e+00  0.000000e+00       0.000000e+00  3.962963e+02   \n",
       "50%    0.000000e+00  0.000000e+00       0.000000e+00  5.711111e+03   \n",
       "75%    0.000000e+00  0.000000e+00       0.000000e+00  4.729259e+04   \n",
       "max    1.391812e+07  7.233078e+07       7.233078e+07  4.513921e+08   \n",
       "\n",
       "        inc_bef_tax  ...  flag_high_ceo_age  flag_miss_ceo_age      ceo_young  \\\n",
       "count  1.138290e+05  ...      113829.000000      113829.000000  113829.000000   \n",
       "mean   2.177122e+04  ...           0.004841           0.144805       0.249778   \n",
       "std    4.624466e+05  ...           0.069406           0.351906       0.432886   \n",
       "min   -2.320988e+07  ...           0.000000           0.000000       0.000000   \n",
       "25%   -5.125926e+03  ...           0.000000           0.000000       0.000000   \n",
       "50%    5.222222e+02  ...           0.000000           0.000000       0.000000   \n",
       "75%    5.711111e+03  ...           0.000000           0.000000       0.000000   \n",
       "max    7.921782e+07  ...           1.000000           1.000000       1.000000   \n",
       "\n",
       "       labor_avg_mod  flag_miss_labor_avg  sales_mil_log_sq  \\\n",
       "count  113829.000000        113829.000000      1.138290e+05   \n",
       "mean        1.014747             0.176967      1.171803e+01   \n",
       "std         4.197761             0.381643      1.019002e+01   \n",
       "min         0.000000             0.000000      3.087363e-09   \n",
       "25%         0.152778             0.000000      3.771318e+00   \n",
       "50%         0.348485             0.000000      9.234980e+00   \n",
       "75%         1.033012             0.000000      1.671651e+01   \n",
       "max       182.260422             1.000000      4.771708e+01   \n",
       "\n",
       "       flag_low_d1_sales_mil_log  flag_high_d1_sales_mil_log  \\\n",
       "count              113829.000000               113829.000000   \n",
       "mean                    0.037574                    0.023500   \n",
       "std                     0.190164                    0.151486   \n",
       "min                     0.000000                    0.000000   \n",
       "25%                     0.000000                    0.000000   \n",
       "50%                     0.000000                    0.000000   \n",
       "75%                     0.000000                    0.000000   \n",
       "max                     1.000000                    1.000000   \n",
       "\n",
       "       d1_sales_mil_log_mod  d1_sales_mil_log_mod_sq  \n",
       "count         113829.000000            113829.000000  \n",
       "mean              -0.008293                 0.288177  \n",
       "std                0.536759                 0.601358  \n",
       "min               -1.500000                 0.000000  \n",
       "25%               -0.150288                 0.001245  \n",
       "50%                0.000000                 0.027430  \n",
       "75%                0.178348                 0.190346  \n",
       "max                1.500000                 2.250000  \n",
       "\n",
       "[8 rows x 108 columns]"
      ]
     },
     "execution_count": 125,
     "metadata": {},
     "output_type": "execute_result"
    }
   ],
   "source": [
    "data.describe()"
   ]
  },
  {
   "cell_type": "markdown",
   "metadata": {},
   "source": [
    "## Define helper functions"
   ]
  },
  {
   "cell_type": "code",
   "execution_count": 130,
   "metadata": {},
   "outputs": [],
   "source": [
    "def regression_results(y_true, y_pred):\n",
    "\n",
    "    # Regression metrics\n",
    "    explained_variance = metrics.explained_variance_score(y_true, y_pred)\n",
    "    mean_absolute_error = metrics.mean_absolute_error(y_true, y_pred)\n",
    "    mse = metrics.mean_squared_error(y_true, y_pred)\n",
    "    median_absolute_error = metrics.median_absolute_error(y_true, y_pred)\n",
    "    r2 = metrics.r2_score(y_true, y_pred)\n",
    "\n",
    "    print(\"explained_variance: \", round(explained_variance, 4))\n",
    "    print(\"r2: \", round(r2, 4))\n",
    "    print(\"MAE: \", round(mean_absolute_error, 4))\n",
    "    print(\"MSE: \", round(mse, 4))\n",
    "    print(\"RMSE: \", round(np.sqrt(mse), 4))\n",
    "\n",
    "\n",
    "def coef_matrix(X, model):\n",
    "\n",
    "    coef_matrix = pd.concat(\n",
    "        [pd.DataFrame(X.columns), pd.DataFrame(np.transpose(model.coef_))], axis=1\n",
    "    )\n",
    "    coef_matrix.columns = [\"variable\", \"coefficient\"]\n",
    "    coef_matrix = coef_matrix.append(\n",
    "        {\"variable\": \"Intercept\", \"coefficient\": model.intercept_},\n",
    "        ignore_index=True,\n",
    "    )\n",
    "    return coef_matrix\n",
    "\n",
    "\n",
    "def cv_summary(lambdas, C_values, model):\n",
    "    d = {\n",
    "        \"lambdas\": lambdas,\n",
    "        \"C_values\": C_values,\n",
    "        \"mean_cv_score\": model.scores_[1].mean(axis=0),\n",
    "    }\n",
    "    return pd.DataFrame(data=d)\n",
    "\n",
    "\n",
    "def create_roc_plot(y_true, y_pred):\n",
    "    fpr, tpr, thresholds = roc_curve(y_true, y_pred)\n",
    "    all_coords = pd.DataFrame({\"fpr\": fpr, \"tpr\": tpr, \"thresholds\": thresholds})\n",
    "\n",
    "    plot = (\n",
    "        ggplot(all_coords, aes(x=\"fpr\", y=\"tpr\"))\n",
    "        + geom_line(color=color[0], size=0.7)\n",
    "        + geom_area(position=\"identity\", fill=\"mediumaquamarine\", alpha=0.3)\n",
    "        + xlab(\"False Positive Rate (1-Specifity)\")\n",
    "        + ylab(\"True Positive Rate (Sensitivity)\")\n",
    "        + geom_abline(intercept=0, slope=1, linetype=\"dotted\", color=\"black\")\n",
    "        + scale_y_continuous(limits=(0, 1), breaks=np.arange(0, 1.01, 0.1), expand=(0, 0.01))\n",
    "        + scale_x_continuous(limits=(0, 1), breaks=np.arange(0, 1.01, 0.1), expand=(0.01, 0))\n",
    "        + theme_bw()\n",
    "    )\n",
    "    return plot\n",
    "\n",
    "\n",
    "def sigmoid_array(x):\n",
    "    return 1 / (1 + np.exp(-x))\n",
    "\n",
    "\n",
    "def generate_fold_prediction(model, X, fold, param_index):\n",
    "    fold_coef = model.coefs_paths_[1][fold, param_index, :]\n",
    "    return sigmoid_array(\n",
    "        np.dot(X, np.transpose(fold_coef)[:-1]) + np.transpose(fold_coef)[-1]\n",
    "    )\n",
    "\n",
    "\n",
    "def create_loss_plot(all_coords, optimal_threshold, curr_exp_loss):\n",
    "    all_coords_copy = all_coords.copy()\n",
    "    all_coords_copy[\"loss\"] = (\n",
    "        all_coords_copy.false_pos * FP + all_coords_copy.false_neg * FN\n",
    "    ) / all_coords_copy.n\n",
    "\n",
    "    t = optimal_threshold\n",
    "    l = curr_exp_loss\n",
    "\n",
    "    plot = (\n",
    "        ggplot(all_coords_copy, aes(x=\"thresholds\", y=\"loss\"))\n",
    "        + geom_line(color=color[0], size=0.7)\n",
    "        + scale_x_continuous(breaks=np.arange(0, 1.1, 0.1))\n",
    "        + coord_cartesian(xlim=(0, 1))\n",
    "        + geom_vline(xintercept=t, color=color[0])\n",
    "        + annotate(\n",
    "            geom=\"text\",\n",
    "            x=t - 0.01,\n",
    "            y=max(all_coords_copy.loss) - 0.4,\n",
    "            label=\"best threshold: \" + str(round(t, 2)),\n",
    "            color=\"black\",\n",
    "            angle=90,\n",
    "            size=7,\n",
    "        )\n",
    "        + annotate(geom=\"text\", x=t + 0.06, y=l, label=str(round(l, 2)), size=7)\n",
    "        + theme_bw()\n",
    "    )\n",
    "    return plot\n",
    "\n",
    "\n",
    "def create_roc_plot_with_optimal(all_coords, optimal_threshold):\n",
    "    all_coords_copy = all_coords.copy()\n",
    "    all_coords_copy[\"sp\"] = 1 - all_coords_copy.true_neg / all_coords_copy.neg\n",
    "    all_coords_copy[\"se\"] = all_coords_copy.true_pos / all_coords_copy.pos\n",
    "\n",
    "    best_coords = all_coords_copy[all_coords_copy.thresholds == optimal_threshold]\n",
    "    sp = best_coords.sp.values[0]\n",
    "    se = best_coords.se.values[0]\n",
    "\n",
    "    plot = (\n",
    "        ggplot(all_coords_copy, aes(x=\"sp\", y=\"se\"))\n",
    "        + geom_line(color=color[0], size=0.7)\n",
    "        + scale_y_continuous(breaks=np.arange(0, 1.1, 0.1))\n",
    "        + scale_x_continuous(breaks=np.arange(0, 1.1, 0.1))\n",
    "        + geom_point(data=pd.DataFrame({\"sp\": [sp], \"se\": [se]}))\n",
    "        + annotate(\n",
    "            geom=\"text\",\n",
    "            x=sp,\n",
    "            y=se + 0.03,\n",
    "            label=str(round(sp, 2)) + \", \" + str(round(se, 2)),\n",
    "            size=7,\n",
    "        )\n",
    "        + geom_area(position=\"identity\", fill=\"mediumaquamarine\", alpha=0.3)\n",
    "        + xlab(\"False Positive Rate (1-Specifity)\")\n",
    "        + ylab(\"True Positive Rate (Sensitivity)\")\n",
    "        + geom_abline(intercept=0, slope=1, linetype=\"dotted\", color=\"black\")\n",
    "        + theme_bw()\n",
    "    )\n",
    "    return plot\n"
   ]
  },
  {
   "cell_type": "code",
   "execution_count": 131,
   "metadata": {},
   "outputs": [
    {
     "name": "stdout",
     "output_type": "stream",
     "text": [
      "     comp_id  year         sales  annual_growth_2y  high_growth\n",
      "0  1001034.0  2010  9.929630e+03               NaN            0\n",
      "1  1002029.0  2010  8.437741e+05         -0.563289            0\n",
      "2  1003200.0  2010  1.379259e+04               NaN            0\n",
      "3  1004012.0  2010  2.533333e+03               NaN            0\n",
      "4  1007261.0  2010  2.188889e+03               NaN            0\n",
      "5  1011889.0  2010  3.414592e+05          0.044210            0\n",
      "6  1014183.0  2010  1.073815e+05         -0.117423            0\n",
      "7  1022796.0  2010  2.915555e+04          0.336936            1\n",
      "8  1046213.0  2010  3.734748e+06          0.248975            0\n",
      "9  1056952.0  2010  7.872593e+04               NaN            0\n"
     ]
    }
   ],
   "source": [
    "# Extract sales for 2012 and 2014 separately\n",
    "sales_2012 = data[data[\"year\"] == 2012][[\"comp_id\", \"sales\"]].rename(columns={\"sales\": \"sales_2012\"})\n",
    "sales_2014 = data[data[\"year\"] == 2014][[\"comp_id\", \"sales\"]].rename(columns={\"sales\": \"sales_2014\"})\n",
    "\n",
    "# Merge both datasets on \"comp_id\"\n",
    "data_growth = sales_2014.merge(sales_2012, on=\"comp_id\", how=\"left\")\n",
    "\n",
    "# Compute annualized growth rate (CAGR formula)\n",
    "data_growth[\"annual_growth_2y\"] = ((data_growth[\"sales_2014\"] / data_growth[\"sales_2012\"]) ** (1/2)) - 1\n",
    "\n",
    "# Define high-growth firms (growth > 30%)\n",
    "data_growth[\"high_growth\"] = (data_growth[\"annual_growth_2y\"] > 0.3).astype(int)\n",
    "\n",
    "# Merge high-growth label back to the full dataset (assign to all years per firm)\n",
    "data = data.merge(data_growth[[\"comp_id\", \"annual_growth_2y\", \"high_growth\"]], on=\"comp_id\", how=\"left\")\n",
    "\n",
    "# Fill NaN with 0 (for firms that were not classified as high growth)\n",
    "data[\"high_growth\"] = data[\"high_growth\"].fillna(0).astype(int)\n",
    "\n",
    "# Print to check\n",
    "print(data[[\"comp_id\", \"year\", \"sales\", \"annual_growth_2y\", \"high_growth\"]].head(10))\n"
   ]
  },
  {
   "cell_type": "code",
   "execution_count": 139,
   "metadata": {},
   "outputs": [
    {
     "data": {
      "text/plain": [
       "count    80172.000000\n",
       "mean         0.173394\n",
       "std          0.992457\n",
       "min         -0.957643\n",
       "25%         -0.090282\n",
       "50%          0.056141\n",
       "75%          0.228989\n",
       "max         70.394471\n",
       "Name: annual_growth_2y, dtype: float64"
      ]
     },
     "execution_count": 139,
     "metadata": {},
     "output_type": "execute_result"
    }
   ],
   "source": [
    "data[\"annual_growth_2y\"].describe()"
   ]
  },
  {
   "cell_type": "markdown",
   "metadata": {},
   "source": [
    "We filter out all observations with growth rates below -90% and above 300% as these are seen as outliers"
   ]
  },
  {
   "cell_type": "code",
   "execution_count": 143,
   "metadata": {},
   "outputs": [],
   "source": [
    "data = data[\n",
    "    (data[\"annual_growth_2y\"] >= -0.9) &\n",
    "    (data[\"annual_growth_2y\"] <= 3)\n",
    "]"
   ]
  },
  {
   "cell_type": "code",
   "execution_count": 144,
   "metadata": {},
   "outputs": [
    {
     "data": {
      "text/plain": [
       "count    79225.000000\n",
       "mean         0.110633\n",
       "std          0.434697\n",
       "min         -0.898106\n",
       "25%         -0.091889\n",
       "50%          0.053832\n",
       "75%          0.219586\n",
       "max          2.990322\n",
       "Name: annual_growth_2y, dtype: float64"
      ]
     },
     "execution_count": 144,
     "metadata": {},
     "output_type": "execute_result"
    }
   ],
   "source": [
    "data[\"annual_growth_2y\"].describe()"
   ]
  },
  {
   "cell_type": "markdown",
   "metadata": {},
   "source": [
    "## Model building\n",
    "\n",
    "### Define variable sets "
   ]
  },
  {
   "cell_type": "code",
   "execution_count": 147,
   "metadata": {},
   "outputs": [],
   "source": [
    "firm_basics = [\"age\", \"age2\", \"new\", \"profit_loss_year\", \"C(ind2_cat)\", \"total_assets_bs\"]"
   ]
  },
  {
   "cell_type": "code",
   "execution_count": 148,
   "metadata": {},
   "outputs": [],
   "source": [
    "balance_sheet = [\n",
    "    \"curr_assets\",\n",
    "    \"curr_liab\",\n",
    "    \"fixed_assets\",\n",
    "    \"intang_assets\",\n",
    "    \"inventories\",\n",
    "    \"liq_assets\",\n",
    "    \"share_eq\",\n",
    "    \"subscribed_cap\",\n",
    "    \"tang_assets\",\n",
    "    \"curr_assets_bs\",\n",
    "    \"curr_liab_bs\",\n",
    "    \"fixed_assets_bs\",\n",
    "    \"intang_assets_bs\",\n",
    "    \"liq_assets_bs\",\n",
    "    \"share_eq_bs\",\n",
    "    \"subscribed_cap_bs\",\n",
    "    \"tang_assets_bs\",\n",
    "    \"balsheet_flag\",\n",
    "    \"balsheet_length\",\n",
    "    \"balsheet_notfullyear\"\n",
    "]"
   ]
  },
  {
   "cell_type": "code",
   "execution_count": 149,
   "metadata": {},
   "outputs": [],
   "source": [
    "income_expense = [\n",
    "    \"amort\",\n",
    "    \"inc_bef_tax\",\n",
    "    \"profit_loss_year\",\n",
    "    \"material_exp\",\n",
    "    \"personnel_exp\",\n",
    "    \"extra_exp\",\n",
    "    \"extra_inc\",\n",
    "    \"extra_profit_loss\"\n",
    "]"
   ]
  },
  {
   "cell_type": "code",
   "execution_count": 151,
   "metadata": {},
   "outputs": [],
   "source": [
    "hr = [\n",
    "    \"ceo_age\",\n",
    "    \"ceo_young\",\n",
    "    \"C(gender_m)\",\n",
    "    \"C(gender)\",\n",
    "    \"C(origin)\",\n",
    "    \"foreign_management\",\n",
    "    \"inoffice_days\",\n",
    "    \"ceo_count\",\n",
    "    \"labor_avg_mod\",\n",
    "    \"flag_miss_labor_avg\",\n",
    "    \"flag_miss_labor_avg\",\n",
    "    \"flag_high_ceo_age\",\n",
    "    \"flag_low_ceo_age\",\n",
    "    \"flag_miss_ceo_age\",\n",
    "]   "
   ]
  },
  {
   "cell_type": "code",
   "execution_count": 152,
   "metadata": {},
   "outputs": [],
   "source": [
    "location = [\"C(urban_m)\", \"C(region_m)\"]"
   ]
  },
  {
   "cell_type": "code",
   "execution_count": 154,
   "metadata": {},
   "outputs": [],
   "source": [
    "data[\"labor_avg_mod2\"] = data[\"labor_avg_mod\"] ** 2"
   ]
  },
  {
   "cell_type": "code",
   "execution_count": 155,
   "metadata": {},
   "outputs": [],
   "source": [
    "poly = [\n",
    "    \"labor_avg_mod2\",\n",
    "    \"share_eq_bs_quad\"\n",
    "]    "
   ]
  },
  {
   "cell_type": "code",
   "execution_count": 156,
   "metadata": {},
   "outputs": [],
   "source": [
    "interactions1 = [\n",
    "    \"C(ind2_cat)*age\",\n",
    "    \"C(ind2_cat)*ceo_age\",\n",
    "    \"C(ind2_cat)*foreign_management\",\n",
    "    \"C(ind2_cat)*labor_avg_mod\",\n",
    "]\n",
    "\n",
    "interactions2 = [\n",
    "    \"ceo_age*C(female)\",\n",
    "    \"ceo_age*labor_avg_mod\",\n",
    "]\n",
    "\n",
    "interactions3 = [\n",
    "    \"age*total_assets_bs\",\n",
    "    \"age*ceo_age\",\n",
    "    \"age*C(ind2_cat)\",\n",
    "    \"age*labor_avg_mod\",\n",
    "    \"age*share_eq_bs\"\n",
    "]"
   ]
  },
  {
   "cell_type": "markdown",
   "metadata": {},
   "source": [
    "## Model setups"
   ]
  },
  {
   "cell_type": "markdown",
   "metadata": {},
   "source": [
    "1. Simple logit models"
   ]
  },
  {
   "cell_type": "code",
   "execution_count": 159,
   "metadata": {},
   "outputs": [],
   "source": [
    "M1 = (firm_basics)\n",
    "M2 = (firm_basics + balance_sheet)\n",
    "M3 = (firm_basics + balance_sheet + income_expense + hr + location)\n",
    "M4 = (firm_basics + balance_sheet + income_expense + hr + location + poly + interactions1)\n",
    "M5 = (firm_basics + balance_sheet + income_expense + hr + location + poly + interactions1 + interactions2 + interactions3)"
   ]
  },
  {
   "cell_type": "markdown",
   "metadata": {},
   "source": [
    "2. logit+LASSO"
   ]
  },
  {
   "cell_type": "code",
   "execution_count": 161,
   "metadata": {
    "scrolled": true
   },
   "outputs": [],
   "source": [
    "logit_lasso_vars = (\n",
    "    firm_basics + balance_sheet + income_expense + hr + location + poly + interactions1 + interactions2 + interactions3\n",
    ")"
   ]
  },
  {
   "cell_type": "markdown",
   "metadata": {},
   "source": [
    "3. CART and RF (no interactions, no modified features)"
   ]
  },
  {
   "cell_type": "code",
   "execution_count": 163,
   "metadata": {},
   "outputs": [],
   "source": [
    "rfvars = (firm_basics + balance_sheet + income_expense + hr + location)"
   ]
  },
  {
   "cell_type": "markdown",
   "metadata": {},
   "source": [
    "## 0. Separate train and holdout data"
   ]
  },
  {
   "cell_type": "code",
   "execution_count": 177,
   "metadata": {},
   "outputs": [],
   "source": [
    "data_train, data_holdout = train_test_split(data, train_size=0.8, random_state=42)"
   ]
  },
  {
   "cell_type": "code",
   "execution_count": 181,
   "metadata": {},
   "outputs": [
    {
     "name": "stdout",
     "output_type": "stream",
     "text": [
      "Total\n",
      "high_growth\n",
      "0    0.812749\n",
      "1    0.187251\n",
      "Name: proportion, dtype: float64\n",
      "Train\n",
      "high_growth\n",
      "0    0.812259\n",
      "1    0.187741\n",
      "Name: proportion, dtype: float64\n",
      "Holdout\n",
      "high_growth\n",
      "0    0.814705\n",
      "1    0.185295\n",
      "Name: proportion, dtype: float64\n"
     ]
    }
   ],
   "source": [
    "print(\"Total\")\n",
    "print(data[\"high_growth\"].value_counts(normalize=True))\n",
    "print(\"Train\")\n",
    "print(data_train[\"high_growth\"].value_counts(normalize=True))\n",
    "print(\"Holdout\")\n",
    "print(data_holdout[\"high_growth\"].value_counts(normalize=True))\n"
   ]
  },
  {
   "cell_type": "markdown",
   "metadata": {},
   "source": [
    "## 1. Predict probabilities with logit and Lasso with CV\n",
    "\n",
    "Specify 5 fold cross-validation method"
   ]
  },
  {
   "cell_type": "code",
   "execution_count": 189,
   "metadata": {},
   "outputs": [],
   "source": [
    "k = KFold(n_splits=5, shuffle=True, random_state=42)"
   ]
  },
  {
   "cell_type": "markdown",
   "metadata": {},
   "source": [
    "### a) cross validate logit models"
   ]
  },
  {
   "cell_type": "markdown",
   "metadata": {},
   "source": [
    "Set up X-vars"
   ]
  },
  {
   "cell_type": "code",
   "execution_count": 192,
   "metadata": {},
   "outputs": [],
   "source": [
    "logit_model_vars = [M1, M2, M3, M4, M5]"
   ]
  },
  {
   "cell_type": "markdown",
   "metadata": {},
   "source": [
    "Set up Logit model object\n",
    "\n",
    "No regularisation needed so setting the paremeter to very high value"
   ]
  },
  {
   "cell_type": "code",
   "execution_count": 194,
   "metadata": {},
   "outputs": [],
   "source": [
    "C_value_logit = [1e20]"
   ]
  },
  {
   "cell_type": "code",
   "execution_count": 195,
   "metadata": {},
   "outputs": [],
   "source": [
    "logit_models = dict()\n",
    "CV_RMSE_folds = dict()\n",
    "\n",
    "for i, model_vars in enumerate(logit_model_vars):\n",
    "\n",
    "    model_equation = \"high_growth~\" + \"+\".join(model_vars)\n",
    "    y_train, X_train = patsy.dmatrices(model_equation, data_train)\n",
    "\n",
    "    LRCV_brier = LogisticRegressionCV(\n",
    "        Cs=C_value_logit,\n",
    "        cv=k,\n",
    "        refit=True,\n",
    "        scoring=\"neg_brier_score\",\n",
    "        solver=\"newton-cg\",\n",
    "        tol=1e-7,\n",
    "        random_state=42,\n",
    "    )\n",
    "\n",
    "    logit_models[\"M\" + str(i + 1)] = LRCV_brier.fit(X_train, y_train)\n",
    "\n",
    "    # Calculate RMSE on test for each fold\n",
    "    CV_RMSE_folds[\"M\" + str(i + 1)] = np.sqrt(\n",
    "        -1 * logit_models[\"M\" + str(i + 1)].scores_[1].ravel()\n",
    "    )"
   ]
  },
  {
   "cell_type": "code",
   "execution_count": 196,
   "metadata": {},
   "outputs": [
    {
     "data": {
      "text/html": [
       "<div>\n",
       "<style scoped>\n",
       "    .dataframe tbody tr th:only-of-type {\n",
       "        vertical-align: middle;\n",
       "    }\n",
       "\n",
       "    .dataframe tbody tr th {\n",
       "        vertical-align: top;\n",
       "    }\n",
       "\n",
       "    .dataframe thead th {\n",
       "        text-align: right;\n",
       "    }\n",
       "</style>\n",
       "<table border=\"1\" class=\"dataframe\">\n",
       "  <thead>\n",
       "    <tr style=\"text-align: right;\">\n",
       "      <th></th>\n",
       "      <th>M1</th>\n",
       "      <th>M2</th>\n",
       "      <th>M3</th>\n",
       "      <th>M4</th>\n",
       "      <th>M5</th>\n",
       "    </tr>\n",
       "  </thead>\n",
       "  <tbody>\n",
       "    <tr>\n",
       "      <th>0</th>\n",
       "      <td>0.386917</td>\n",
       "      <td>0.384960</td>\n",
       "      <td>0.382337</td>\n",
       "      <td>0.381716</td>\n",
       "      <td>0.382256</td>\n",
       "    </tr>\n",
       "    <tr>\n",
       "      <th>1</th>\n",
       "      <td>0.380790</td>\n",
       "      <td>0.379745</td>\n",
       "      <td>0.382701</td>\n",
       "      <td>0.381555</td>\n",
       "      <td>0.382405</td>\n",
       "    </tr>\n",
       "    <tr>\n",
       "      <th>2</th>\n",
       "      <td>0.387790</td>\n",
       "      <td>0.387244</td>\n",
       "      <td>0.385749</td>\n",
       "      <td>0.385126</td>\n",
       "      <td>0.385099</td>\n",
       "    </tr>\n",
       "    <tr>\n",
       "      <th>3</th>\n",
       "      <td>0.385425</td>\n",
       "      <td>0.386156</td>\n",
       "      <td>0.384724</td>\n",
       "      <td>0.384776</td>\n",
       "      <td>0.385078</td>\n",
       "    </tr>\n",
       "    <tr>\n",
       "      <th>4</th>\n",
       "      <td>0.386184</td>\n",
       "      <td>0.384880</td>\n",
       "      <td>0.385151</td>\n",
       "      <td>0.384497</td>\n",
       "      <td>0.384662</td>\n",
       "    </tr>\n",
       "  </tbody>\n",
       "</table>\n",
       "</div>"
      ],
      "text/plain": [
       "         M1        M2        M3        M4        M5\n",
       "0  0.386917  0.384960  0.382337  0.381716  0.382256\n",
       "1  0.380790  0.379745  0.382701  0.381555  0.382405\n",
       "2  0.387790  0.387244  0.385749  0.385126  0.385099\n",
       "3  0.385425  0.386156  0.384724  0.384776  0.385078\n",
       "4  0.386184  0.384880  0.385151  0.384497  0.384662"
      ]
     },
     "execution_count": 196,
     "metadata": {},
     "output_type": "execute_result"
    }
   ],
   "source": [
    "pd.DataFrame(CV_RMSE_folds)"
   ]
  },
  {
   "cell_type": "markdown",
   "metadata": {},
   "source": [
    "### b) Logit + LASSO"
   ]
  },
  {
   "cell_type": "code",
   "execution_count": 198,
   "metadata": {},
   "outputs": [],
   "source": [
    "model_equation = \"high_growth~\" + \"+\".join(logit_lasso_vars)\n",
    "y_train, X_train = patsy.dmatrices(model_equation, data_train)"
   ]
  },
  {
   "cell_type": "markdown",
   "metadata": {},
   "source": [
    "Normalise X vars for Lasso"
   ]
  },
  {
   "cell_type": "code",
   "execution_count": 200,
   "metadata": {},
   "outputs": [],
   "source": [
    "normalized_logitvars = pd.DataFrame(\n",
    "    StandardScaler().fit_transform(X_train),\n",
    "    columns=X_train.design_info.column_names,\n",
    ")"
   ]
  },
  {
   "cell_type": "markdown",
   "metadata": {},
   "source": [
    "Set regularization parameters"
   ]
  },
  {
   "cell_type": "code",
   "execution_count": 202,
   "metadata": {},
   "outputs": [],
   "source": [
    "lambdas = list(10 ** np.arange(-1, -4.01, -1 / 3))\n",
    "n_obs = normalized_logitvars.shape[0] * 4 / 5\n",
    "C_values = [\n",
    "    1 / (l * n_obs) for l in lambdas\n",
    "]  # Cs are the inverse of regularization strength"
   ]
  },
  {
   "cell_type": "markdown",
   "metadata": {},
   "source": [
    "Initialize and fit Logit Lasso"
   ]
  },
  {
   "cell_type": "code",
   "execution_count": 204,
   "metadata": {},
   "outputs": [],
   "source": [
    "logLasso_brier = LogisticRegressionCV(\n",
    "    Cs=C_values,\n",
    "    penalty=\"l1\",\n",
    "    cv=k,\n",
    "    refit=True,\n",
    "    scoring=\"neg_brier_score\",\n",
    "    solver=\"liblinear\",\n",
    "    random_state=42,\n",
    ")\n",
    "\n",
    "logit_models[\"LASSO\"] = logLasso_brier.fit(normalized_logitvars, y_train)"
   ]
  },
  {
   "cell_type": "markdown",
   "metadata": {},
   "source": [
    "See CV-fold RMSE-s (negative brier score)"
   ]
  },
  {
   "cell_type": "code",
   "execution_count": 206,
   "metadata": {},
   "outputs": [
    {
     "data": {
      "text/html": [
       "<div>\n",
       "<style scoped>\n",
       "    .dataframe tbody tr th:only-of-type {\n",
       "        vertical-align: middle;\n",
       "    }\n",
       "\n",
       "    .dataframe tbody tr th {\n",
       "        vertical-align: top;\n",
       "    }\n",
       "\n",
       "    .dataframe thead th {\n",
       "        text-align: right;\n",
       "    }\n",
       "</style>\n",
       "<table border=\"1\" class=\"dataframe\">\n",
       "  <thead>\n",
       "    <tr style=\"text-align: right;\">\n",
       "      <th></th>\n",
       "      <th>lambdas</th>\n",
       "      <th>C_values</th>\n",
       "      <th>mean_cv_score</th>\n",
       "    </tr>\n",
       "  </thead>\n",
       "  <tbody>\n",
       "    <tr>\n",
       "      <th>0</th>\n",
       "      <td>0.100000</td>\n",
       "      <td>0.000197</td>\n",
       "      <td>0.403105</td>\n",
       "    </tr>\n",
       "    <tr>\n",
       "      <th>1</th>\n",
       "      <td>0.046416</td>\n",
       "      <td>0.000425</td>\n",
       "      <td>0.391110</td>\n",
       "    </tr>\n",
       "    <tr>\n",
       "      <th>2</th>\n",
       "      <td>0.021544</td>\n",
       "      <td>0.000915</td>\n",
       "      <td>0.385963</td>\n",
       "    </tr>\n",
       "    <tr>\n",
       "      <th>3</th>\n",
       "      <td>0.010000</td>\n",
       "      <td>0.001972</td>\n",
       "      <td>0.383620</td>\n",
       "    </tr>\n",
       "    <tr>\n",
       "      <th>4</th>\n",
       "      <td>0.004642</td>\n",
       "      <td>0.004249</td>\n",
       "      <td>0.382285</td>\n",
       "    </tr>\n",
       "    <tr>\n",
       "      <th>5</th>\n",
       "      <td>0.002154</td>\n",
       "      <td>0.009155</td>\n",
       "      <td>0.381681</td>\n",
       "    </tr>\n",
       "    <tr>\n",
       "      <th>6</th>\n",
       "      <td>0.001000</td>\n",
       "      <td>0.019724</td>\n",
       "      <td>0.381018</td>\n",
       "    </tr>\n",
       "    <tr>\n",
       "      <th>7</th>\n",
       "      <td>0.000464</td>\n",
       "      <td>0.042493</td>\n",
       "      <td>0.380688</td>\n",
       "    </tr>\n",
       "    <tr>\n",
       "      <th>8</th>\n",
       "      <td>0.000215</td>\n",
       "      <td>0.091549</td>\n",
       "      <td>0.380543</td>\n",
       "    </tr>\n",
       "    <tr>\n",
       "      <th>9</th>\n",
       "      <td>0.000100</td>\n",
       "      <td>0.197236</td>\n",
       "      <td>0.380514</td>\n",
       "    </tr>\n",
       "  </tbody>\n",
       "</table>\n",
       "</div>"
      ],
      "text/plain": [
       "    lambdas  C_values  mean_cv_score\n",
       "0  0.100000  0.000197       0.403105\n",
       "1  0.046416  0.000425       0.391110\n",
       "2  0.021544  0.000915       0.385963\n",
       "3  0.010000  0.001972       0.383620\n",
       "4  0.004642  0.004249       0.382285\n",
       "5  0.002154  0.009155       0.381681\n",
       "6  0.001000  0.019724       0.381018\n",
       "7  0.000464  0.042493       0.380688\n",
       "8  0.000215  0.091549       0.380543\n",
       "9  0.000100  0.197236       0.380514"
      ]
     },
     "execution_count": 206,
     "metadata": {},
     "output_type": "execute_result"
    }
   ],
   "source": [
    "cv_summary_lasso = cv_summary(lambdas, C_values, logit_models[\"LASSO\"])\n",
    "cv_summary_lasso[\"mean_cv_score\"] = np.sqrt(cv_summary_lasso[\"mean_cv_score\"] * -1)\n",
    "cv_summary_lasso"
   ]
  },
  {
   "cell_type": "markdown",
   "metadata": {},
   "source": [
    "Save best lambda's index for later use"
   ]
  },
  {
   "cell_type": "code",
   "execution_count": 208,
   "metadata": {},
   "outputs": [],
   "source": [
    "best_lambda_i = cv_summary_lasso[\"mean_cv_score\"].idxmin()"
   ]
  },
  {
   "cell_type": "markdown",
   "metadata": {},
   "source": [
    "Extract CV test RMSE for the Lasso with best lambda"
   ]
  },
  {
   "cell_type": "code",
   "execution_count": 210,
   "metadata": {},
   "outputs": [],
   "source": [
    "CV_RMSE_folds[\"LASSO\"] = np.sqrt(\n",
    "    -1 * logit_models[\"LASSO\"].scores_[1][:, best_lambda_i]\n",
    ")"
   ]
  },
  {
   "cell_type": "code",
   "execution_count": 211,
   "metadata": {},
   "outputs": [
    {
     "data": {
      "text/plain": [
       "{'M1': array([0.3869166 , 0.3807903 , 0.38779048, 0.3854248 , 0.38618408]),\n",
       " 'M2': array([0.38495964, 0.3797454 , 0.38724374, 0.3861563 , 0.38488019]),\n",
       " 'M3': array([0.3823365 , 0.38270074, 0.38574926, 0.38472413, 0.38515058]),\n",
       " 'M4': array([0.38171619, 0.38155509, 0.38512586, 0.38477622, 0.38449684]),\n",
       " 'M5': array([0.38225612, 0.3824053 , 0.3850986 , 0.38507764, 0.3846625 ]),\n",
       " 'LASSO': array([0.37843827, 0.37847072, 0.38218468, 0.38191243, 0.38154747])}"
      ]
     },
     "execution_count": 211,
     "metadata": {},
     "output_type": "execute_result"
    }
   ],
   "source": [
    "CV_RMSE_folds"
   ]
  },
  {
   "cell_type": "markdown",
   "metadata": {},
   "source": [
    "## 2.  AUC, Calibration Curve, Confusion Matrix, ROC\n",
    "\n",
    "0. Calculate AUC for folds\n",
    "\n",
    "\n",
    "First, for logits"
   ]
  },
  {
   "cell_type": "code",
   "execution_count": 216,
   "metadata": {},
   "outputs": [],
   "source": [
    "CV_AUC_folds = dict()\n",
    "for i, model_vars in enumerate(logit_model_vars):\n",
    "\n",
    "    model_equation = \"high_growth~\" + \"+\".join(model_vars)\n",
    "    y_train, X_train = patsy.dmatrices(model_equation, data_train)\n",
    "\n",
    "    LRCV_auc = LogisticRegressionCV(\n",
    "        Cs=C_value_logit,\n",
    "        cv=k,\n",
    "        refit=True,\n",
    "        scoring=\"roc_auc\",\n",
    "        solver=\"newton-cg\",\n",
    "        tol=1e-7,\n",
    "        random_state=42,\n",
    "    )\n",
    "\n",
    "    logit_models[\"M\" + str(i + 1)] = LRCV_auc.fit(X_train, y_train)\n",
    "\n",
    "    # Calculate AUC on test for each fold\n",
    "    CV_AUC_folds[\"M\" + str(i + 1)] = logit_models[\"M\" + str(i + 1)].scores_[1].ravel()"
   ]
  },
  {
   "cell_type": "markdown",
   "metadata": {},
   "source": [
    "For Lasso"
   ]
  },
  {
   "cell_type": "code",
   "execution_count": 218,
   "metadata": {},
   "outputs": [],
   "source": [
    "logLasso_auc = LogisticRegressionCV(\n",
    "    Cs=C_values,\n",
    "    penalty=\"l1\",\n",
    "    cv=k,\n",
    "    refit=True,\n",
    "    scoring=\"roc_auc\",\n",
    "    solver=\"liblinear\",\n",
    "    random_state=42,\n",
    ")\n",
    "logLasso_auc_fitted = logLasso_auc.fit(normalized_logitvars, y_train)\n",
    "\n",
    "CV_AUC_folds[\"LASSO\"] = logLasso_auc_fitted.scores_[1][\n",
    "    :, cv_summary_lasso[\"mean_cv_score\"].idxmin()\n",
    "]"
   ]
  },
  {
   "cell_type": "markdown",
   "metadata": {},
   "source": [
    "Put a summary frame together"
   ]
  },
  {
   "cell_type": "code",
   "execution_count": 220,
   "metadata": {},
   "outputs": [],
   "source": [
    "model_fits = pd.DataFrame(logit_models, index=[\"Model fit\"]).T\n",
    "\n",
    "summary = (\n",
    "    model_fits[\"Model fit\"]\n",
    "    .apply(lambda x: x.n_features_in_)\n",
    "    .to_frame(name=\"Number of Coefficients\")\n",
    ")\n",
    "\n",
    "summary.loc[\"LASSO\", \"Number of Coefficients\"] = len(\n",
    "    [i for i in model_fits.loc[\"LASSO\"].values[0].coef_[0] if i != 0]\n",
    ")\n",
    "\n",
    "summary[\"CV RMSE\"] = pd.DataFrame(CV_RMSE_folds).T.mean(axis=1)\n",
    "summary[\"CV AUC\"] = pd.DataFrame(CV_AUC_folds).T.mean(axis=1)"
   ]
  },
  {
   "cell_type": "code",
   "execution_count": 221,
   "metadata": {},
   "outputs": [
    {
     "data": {
      "text/plain": [
       "103"
      ]
     },
     "execution_count": 221,
     "metadata": {},
     "output_type": "execute_result"
    }
   ],
   "source": [
    "sum(x != 0 for x in model_fits.loc[\"LASSO\"].values[0].coef_[0].tolist())"
   ]
  },
  {
   "cell_type": "code",
   "execution_count": 222,
   "metadata": {},
   "outputs": [
    {
     "data": {
      "text/plain": [
       "103"
      ]
     },
     "execution_count": 222,
     "metadata": {},
     "output_type": "execute_result"
    }
   ],
   "source": [
    "len(\n",
    "    [i for i in model_fits.loc[\"LASSO\"].values[0].coef_[0] if i != 0]\n",
    ")"
   ]
  },
  {
   "cell_type": "code",
   "execution_count": 223,
   "metadata": {},
   "outputs": [
    {
     "data": {
      "text/html": [
       "<div>\n",
       "<style scoped>\n",
       "    .dataframe tbody tr th:only-of-type {\n",
       "        vertical-align: middle;\n",
       "    }\n",
       "\n",
       "    .dataframe tbody tr th {\n",
       "        vertical-align: top;\n",
       "    }\n",
       "\n",
       "    .dataframe thead th {\n",
       "        text-align: right;\n",
       "    }\n",
       "</style>\n",
       "<table border=\"1\" class=\"dataframe\">\n",
       "  <thead>\n",
       "    <tr style=\"text-align: right;\">\n",
       "      <th></th>\n",
       "      <th>Number of Coefficients</th>\n",
       "      <th>CV RMSE</th>\n",
       "      <th>CV AUC</th>\n",
       "    </tr>\n",
       "  </thead>\n",
       "  <tbody>\n",
       "    <tr>\n",
       "      <th>M1</th>\n",
       "      <td>13</td>\n",
       "      <td>0.385421</td>\n",
       "      <td>0.626675</td>\n",
       "    </tr>\n",
       "    <tr>\n",
       "      <th>M2</th>\n",
       "      <td>33</td>\n",
       "      <td>0.384597</td>\n",
       "      <td>0.625130</td>\n",
       "    </tr>\n",
       "    <tr>\n",
       "      <th>M3</th>\n",
       "      <td>60</td>\n",
       "      <td>0.384132</td>\n",
       "      <td>0.634248</td>\n",
       "    </tr>\n",
       "    <tr>\n",
       "      <th>M4</th>\n",
       "      <td>90</td>\n",
       "      <td>0.383534</td>\n",
       "      <td>0.641523</td>\n",
       "    </tr>\n",
       "    <tr>\n",
       "      <th>M5</th>\n",
       "      <td>117</td>\n",
       "      <td>0.383900</td>\n",
       "      <td>0.636605</td>\n",
       "    </tr>\n",
       "    <tr>\n",
       "      <th>LASSO</th>\n",
       "      <td>103</td>\n",
       "      <td>0.380511</td>\n",
       "      <td>0.660882</td>\n",
       "    </tr>\n",
       "  </tbody>\n",
       "</table>\n",
       "</div>"
      ],
      "text/plain": [
       "       Number of Coefficients   CV RMSE    CV AUC\n",
       "M1                         13  0.385421  0.626675\n",
       "M2                         33  0.384597  0.625130\n",
       "M3                         60  0.384132  0.634248\n",
       "M4                         90  0.383534  0.641523\n",
       "M5                        117  0.383900  0.636605\n",
       "LASSO                     103  0.380511  0.660882"
      ]
     },
     "execution_count": 223,
     "metadata": {},
     "output_type": "execute_result"
    }
   ],
   "source": [
    "summary"
   ]
  },
  {
   "cell_type": "markdown",
   "metadata": {},
   "source": [
    "### Take best model and estimate RMSE on holdout  \n",
    "\n",
    "M4, M5 and LASSO are close - But M4 seems to be the simplest out of them, so we will take M4"
   ]
  },
  {
   "cell_type": "code",
   "execution_count": 229,
   "metadata": {},
   "outputs": [],
   "source": [
    "best_logit = logit_models[\"M4\"]\n",
    "model_equation = \"high_growth~\" + \"+\".join(M4)\n",
    "_, X_holdout = patsy.dmatrices(model_equation, data_holdout)"
   ]
  },
  {
   "cell_type": "markdown",
   "metadata": {},
   "source": [
    "Best logit holdout RMSE\n"
   ]
  },
  {
   "cell_type": "code",
   "execution_count": 232,
   "metadata": {},
   "outputs": [
    {
     "name": "stdout",
     "output_type": "stream",
     "text": [
      "15845 15845\n"
     ]
    }
   ],
   "source": [
    "print(len(X_holdout), len(data_holdout))\n"
   ]
  },
  {
   "cell_type": "code",
   "execution_count": 233,
   "metadata": {},
   "outputs": [
    {
     "data": {
      "text/plain": [
       "0.38"
      ]
     },
     "execution_count": 233,
     "metadata": {},
     "output_type": "execute_result"
    }
   ],
   "source": [
    "data_holdout[\"best_logit_pred_proba\"] = best_logit.predict_proba(X_holdout)[:, 1]\n",
    "\n",
    "round(rmse(data_holdout[\"best_logit_pred_proba\"], data_holdout[\"high_growth\"]), 3)"
   ]
  },
  {
   "cell_type": "markdown",
   "metadata": {},
   "source": [
    "### Confusion table with different tresholds\n",
    "\n",
    "high_growth: the threshold 0.5 is used to convert probabilities to binary classes"
   ]
  },
  {
   "cell_type": "code",
   "execution_count": 249,
   "metadata": {},
   "outputs": [
    {
     "name": "stdout",
     "output_type": "stream",
     "text": [
      "0.0  (no high_growth):  15833\n",
      "1.0  (high_growth):  12\n"
     ]
    }
   ],
   "source": [
    "logit_class_prediction = best_logit.predict(X_holdout)\n",
    "\n",
    "values, counts = np.unique(logit_class_prediction.tolist(), return_counts=True)\n",
    "print(values[0], \" (no high_growth): \", counts[0])\n",
    "print(values[1], \" (high_growth): \", counts[1])"
   ]
  },
  {
   "cell_type": "markdown",
   "metadata": {},
   "source": [
    "Confusion matrix: summarize different type of errors and successfully predicted cases\n",
    "\n",
    "positive = \"yes\": explicitly specify the positive case"
   ]
  },
  {
   "cell_type": "code",
   "execution_count": 252,
   "metadata": {},
   "outputs": [
    {
     "data": {
      "text/html": [
       "<div>\n",
       "<style scoped>\n",
       "    .dataframe tbody tr th:only-of-type {\n",
       "        vertical-align: middle;\n",
       "    }\n",
       "\n",
       "    .dataframe tbody tr th {\n",
       "        vertical-align: top;\n",
       "    }\n",
       "\n",
       "    .dataframe thead th {\n",
       "        text-align: right;\n",
       "    }\n",
       "</style>\n",
       "<table border=\"1\" class=\"dataframe\">\n",
       "  <thead>\n",
       "    <tr style=\"text-align: right;\">\n",
       "      <th></th>\n",
       "      <th>Predicted no high_growth</th>\n",
       "      <th>Predicted high_growth</th>\n",
       "    </tr>\n",
       "  </thead>\n",
       "  <tbody>\n",
       "    <tr>\n",
       "      <th>Actul no high_growth</th>\n",
       "      <td>12905</td>\n",
       "      <td>4</td>\n",
       "    </tr>\n",
       "    <tr>\n",
       "      <th>Actual high_growth</th>\n",
       "      <td>2928</td>\n",
       "      <td>8</td>\n",
       "    </tr>\n",
       "  </tbody>\n",
       "</table>\n",
       "</div>"
      ],
      "text/plain": [
       "                      Predicted no high_growth  Predicted high_growth\n",
       "Actul no high_growth                     12905                      4\n",
       "Actual high_growth                        2928                      8"
      ]
     },
     "execution_count": 252,
     "metadata": {},
     "output_type": "execute_result"
    }
   ],
   "source": [
    "cm_object1 = confusion_matrix(\n",
    "    data_holdout[\"high_growth\"], logit_class_prediction, labels=[0, 1]\n",
    ")\n",
    "cm1 = pd.DataFrame(\n",
    "    cm_object1,\n",
    "    index=[\"Actul no high_growth\", \"Actual high_growth\"],\n",
    "    columns=[\"Predicted no high_growth\", \"Predicted high_growth\"],\n",
    ")\n",
    "cm1"
   ]
  },
  {
   "cell_type": "code",
   "execution_count": 254,
   "metadata": {},
   "outputs": [
    {
     "data": {
      "text/html": [
       "<div>\n",
       "<style scoped>\n",
       "    .dataframe tbody tr th:only-of-type {\n",
       "        vertical-align: middle;\n",
       "    }\n",
       "\n",
       "    .dataframe tbody tr th {\n",
       "        vertical-align: top;\n",
       "    }\n",
       "\n",
       "    .dataframe thead th {\n",
       "        text-align: right;\n",
       "    }\n",
       "</style>\n",
       "<table border=\"1\" class=\"dataframe\">\n",
       "  <thead>\n",
       "    <tr style=\"text-align: right;\">\n",
       "      <th></th>\n",
       "      <th>Predicted no high_growth</th>\n",
       "      <th>Predicted high_growth</th>\n",
       "    </tr>\n",
       "  </thead>\n",
       "  <tbody>\n",
       "    <tr>\n",
       "      <th>Actul no high_growth</th>\n",
       "      <td>12905</td>\n",
       "      <td>4</td>\n",
       "    </tr>\n",
       "    <tr>\n",
       "      <th>Actual high_growth</th>\n",
       "      <td>2928</td>\n",
       "      <td>8</td>\n",
       "    </tr>\n",
       "  </tbody>\n",
       "</table>\n",
       "</div>"
      ],
      "text/plain": [
       "                      Predicted no high_growth  Predicted high_growth\n",
       "Actul no high_growth                     12905                      4\n",
       "Actual high_growth                        2928                      8"
      ]
     },
     "execution_count": 254,
     "metadata": {},
     "output_type": "execute_result"
    }
   ],
   "source": [
    "# we can apply different thresholds\n",
    "\n",
    "# 0.5 same as before\n",
    "holdout_prediction = np.where(data_holdout[\"best_logit_pred_proba\"] < 0.5, 0, 1)\n",
    "cm_object1b = confusion_matrix(\n",
    "    data_holdout[\"high_growth\"], holdout_prediction, labels=[0, 1]\n",
    ")\n",
    "cm1b = pd.DataFrame(\n",
    "    cm_object1b,\n",
    "    index=[\"Actul no high_growth\", \"Actual high_growth\"],\n",
    "    columns=[\"Predicted no high_growth\", \"Predicted high_growth\"],\n",
    ")\n",
    "cm1b"
   ]
  },
  {
   "cell_type": "markdown",
   "metadata": {},
   "source": [
    "A sensible choice: mean of predicted probabilities"
   ]
  },
  {
   "cell_type": "code",
   "execution_count": 256,
   "metadata": {},
   "outputs": [
    {
     "data": {
      "text/plain": [
       "0.188"
      ]
     },
     "execution_count": 256,
     "metadata": {},
     "output_type": "execute_result"
    }
   ],
   "source": [
    "mean_predicted_high_growth_prob = np.mean(data_holdout[\"best_logit_pred_proba\"])\n",
    "round(mean_predicted_high_growth_prob, 3)"
   ]
  },
  {
   "cell_type": "code",
   "execution_count": null,
   "metadata": {},
   "outputs": [],
   "source": [
    "holdout_prediction = np.where(\n",
    "    data_holdout[\"best_logit_pred_proba\"] < mean_predicted_high_growth_prob, 0, 1\n",
    ")\n",
    "cm_object2 = confusion_matrix(\n",
    "    data_holdout[\"high_growth\"], holdout_prediction, labels=[0, 1]\n",
    ")\n",
    "cm2 = pd.DataFrame(\n",
    "    cm_object2,\n",
    "    index=[\"Actual no high_growth\", \"Actual high_growth\"],\n",
    "    columns=[\"Predicted no high_growth\", \"Predicted high_growth\"],\n",
    ")\n",
    "cm2"
   ]
  },
  {
   "cell_type": "markdown",
   "metadata": {},
   "source": [
    "### Visualize ROC (with thresholds in steps) on holdout\n",
    "\n",
    "What if we want to compare multiple thresholds?\n",
    "\n",
    "First, discrete ROC (with thresholds in steps) on holdout"
   ]
  },
  {
   "cell_type": "code",
   "execution_count": 259,
   "metadata": {},
   "outputs": [
    {
     "data": {
      "text/plain": [
       "count    1.584500e+04\n",
       "mean     1.880955e-01\n",
       "std      8.232285e-02\n",
       "min      5.211202e-07\n",
       "25%      1.251990e-01\n",
       "50%      1.743482e-01\n",
       "75%      2.456335e-01\n",
       "max      8.944022e-01\n",
       "Name: best_logit_pred_proba, dtype: float64"
      ]
     },
     "execution_count": 259,
     "metadata": {},
     "output_type": "execute_result"
    }
   ],
   "source": [
    "data_holdout[\"best_logit_pred_proba\"].describe()\n"
   ]
  },
  {
   "cell_type": "code",
   "execution_count": 260,
   "metadata": {},
   "outputs": [],
   "source": [
    "thresholds = np.arange(0.05, 1.01, 0.05)\n",
    "#thresholds = sorted(np.geomspace(0.95, 0.05, num=17)) # set these treshold values to get even points in the plot\n",
    "cm = dict()\n",
    "true_positive_rates = []\n",
    "false_positive_rates = []\n",
    "holdout_prediction = []\n",
    "for thr in thresholds:\n",
    "    holdout_prediction = np.where(data_holdout[\"best_logit_pred_proba\"] < thr, 0, 1)\n",
    "    cm_thr = confusion_matrix(data_holdout[\"high_growth\"], holdout_prediction, labels=[0, 1])\n",
    "    cm[thr] = cm_thr\n",
    "    tn, fp, fn, tp = cm_thr.ravel()\n",
    "    true_positive_rates.append(tp / (tp + fn))\n",
    "    false_positive_rates.append(fp / (fp + tn))"
   ]
  },
  {
   "cell_type": "code",
   "execution_count": 261,
   "metadata": {},
   "outputs": [],
   "source": [
    "tpr_fpr_for_thresholds = pd.DataFrame(\n",
    "    {\n",
    "        \"thresholds\": thresholds,\n",
    "        \"true_positive_rates\": true_positive_rates,\n",
    "        \"false_positive_rates\": false_positive_rates,\n",
    "    }\n",
    ")"
   ]
  },
  {
   "cell_type": "code",
   "execution_count": 262,
   "metadata": {},
   "outputs": [
    {
     "data": {
      "image/png": "[encoded data removed]"
     },
     "metadata": {
      "image/png": {
       "height": 480,
       "width": 640
      }
     },
     "output_type": "display_data"
    }
   ],
   "source": [
    "(\n",
    "    ggplot(\n",
    "        tpr_fpr_for_thresholds,\n",
    "        aes(x=\"false_positive_rates\", y=\"true_positive_rates\", color=\"thresholds\"),\n",
    "    )\n",
    "    + labs(\n",
    "        x=\"False positive rate (1 - Specificity)\", y=\"True positive rate (Sensitivity)\"\n",
    "    )\n",
    "    + geom_point(size=4, alpha=0.8)\n",
    "    + scale_color_continuous(trans=\"reverse\", name=\"threshold\")\n",
    "    + scale_x_continuous(limits=(0, 1), breaks=np.arange(0, 1.01, 0.1))\n",
    "    + scale_y_continuous(limits=(0, 1), breaks=np.arange(0, 1.01, 0.1))\n",
    "    + theme_bw()\n",
    "    + theme(legend_position=\"right\")\n",
    ")"
   ]
  },
  {
   "cell_type": "markdown",
   "metadata": {},
   "source": [
    "Continuous ROC on holdout with best model"
   ]
  },
  {
   "cell_type": "code",
   "execution_count": 271,
   "metadata": {},
   "outputs": [],
   "source": [
    "color = \"black\""
   ]
  },
  {
   "cell_type": "code",
   "execution_count": 272,
   "metadata": {},
   "outputs": [
    {
     "data": {
      "image/png": "[encoded data removed]"
     },
     "metadata": {
      "image/png": {
       "height": 480,
       "width": 640
      }
     },
     "output_type": "display_data"
    }
   ],
   "source": [
    "create_roc_plot(data_holdout[\"high_growth\"], data_holdout[\"best_logit_pred_proba\"])"
   ]
  },
  {
   "cell_type": "markdown",
   "metadata": {},
   "source": [
    "## 3. We have a loss function\n",
    "\n",
    "Introduce loss function\n",
    "\n",
    "Relative cost of of a false negative classification (as compared with a false positive classification)\n"
   ]
  },
  {
   "cell_type": "code",
   "execution_count": 274,
   "metadata": {},
   "outputs": [],
   "source": [
    "FP = 1\n",
    "FN = 10\n",
    "cost = FN / FP"
   ]
  },
  {
   "cell_type": "markdown",
   "metadata": {},
   "source": [
    "The prevalence, or the proportion of cases in the population (n.cases/(n.controls+n.cases))\n"
   ]
  },
  {
   "cell_type": "code",
   "execution_count": 276,
   "metadata": {},
   "outputs": [],
   "source": [
    "prevelance = y_train.sum() / len(y_train)"
   ]
  },
  {
   "cell_type": "markdown",
   "metadata": {},
   "source": [
    "Draw ROC Curve and find optimal threshold with loss function \n",
    "\n",
    "The optimal cut-off is the threshold that maximizes the distance to the identity (diagonal) line\n",
    "\n",
    "Iterate through:\n",
    " 1. models\n",
    " 2. Folds"
   ]
  },
  {
   "cell_type": "code",
   "execution_count": 278,
   "metadata": {},
   "outputs": [],
   "source": [
    "best_thresholds_cv = dict()\n",
    "expected_loss_cv = dict()\n",
    "fold5_threshold = dict()\n",
    "fold5_expected_loss = dict()\n",
    "fold5_all_coords = dict()\n",
    "\n",
    "for i, model_name in enumerate(logit_models):\n",
    "    best_thresholds = []\n",
    "    expected_loss = []\n",
    "\n",
    "    if model_name != \"LASSO\":\n",
    "        _, X = patsy.dmatrices(\"high_growth ~\" + \"+\".join(logit_model_vars[i]), data_train)\n",
    "        X = pd.DataFrame(X)\n",
    "        c_index = 0\n",
    "    else:\n",
    "        X = normalized_logitvars\n",
    "        c_index = best_lambda_i\n",
    "    fold = 0\n",
    "    for train_index, test_index in k.split(X):\n",
    "        X_fold = X.iloc[test_index, :]\n",
    "        y_fold = data_train[\"high_growth\"].iloc[test_index]\n",
    "        pred_fold = generate_fold_prediction(\n",
    "            logit_models[model_name], X_fold, fold, c_index\n",
    "        )\n",
    "        false_pos_rate, true_pos_rate, thresholds = roc_curve(y_fold, pred_fold)\n",
    "        optimal_threshold = sorted(\n",
    "            list(\n",
    "                zip(\n",
    "                    np.abs(\n",
    "                        true_pos_rate\n",
    "                        + (1 - prevelance) / (cost * prevelance) * (1 - false_pos_rate)\n",
    "                    ),\n",
    "                    thresholds,\n",
    "                )\n",
    "            ),\n",
    "            key=lambda i: i[0],\n",
    "            reverse=True,\n",
    "        )[0][1]\n",
    "        best_thresholds.append(optimal_threshold)\n",
    "        threshold_prediction = np.where(pred_fold < optimal_threshold, 0, 1)\n",
    "        tn, fp, fn, tp = confusion_matrix(\n",
    "            y_fold, threshold_prediction, labels=[0, 1]\n",
    "        ).ravel()\n",
    "        curr_exp_loss = (fp * FP + fn * FN) / len(y_fold)\n",
    "        expected_loss.append(curr_exp_loss)\n",
    "        fold = fold + 1\n",
    "\n",
    "    best_thresholds_cv[model_name] = np.mean(best_thresholds)\n",
    "    expected_loss_cv[model_name] = np.mean(expected_loss)\n",
    "\n",
    "    # for fold #5\n",
    "    fold5_threshold[model_name] = optimal_threshold\n",
    "    fold5_expected_loss[model_name] = curr_exp_loss\n",
    "\n",
    "    all_coords = pd.DataFrame(\n",
    "        {\n",
    "            \"false_pos\": false_pos_rate * sum(y_fold == 0),\n",
    "            \"true_pos\": true_pos_rate * sum(y_fold == 1),\n",
    "            \"false_neg\": sum(y_fold == 1) - true_pos_rate * sum(y_fold == 1),\n",
    "            \"true_neg\": sum(y_fold == 0) - false_pos_rate * sum(y_fold == 0),\n",
    "            \"pos\": sum(y_fold == 1),\n",
    "            \"neg\": sum(y_fold == 0),\n",
    "            \"n\": len(y_fold),\n",
    "            \"thresholds\": thresholds,\n",
    "        }\n",
    "    )\n",
    "\n",
    "    fold5_all_coords[model_name] = all_coords"
   ]
  },
  {
   "cell_type": "code",
   "execution_count": 279,
   "metadata": {},
   "outputs": [],
   "source": [
    "summary_with_lossfnc = pd.DataFrame(\n",
    "    best_thresholds_cv.items(), columns=[\"Model\", \"Avg of optimal thresholds\"]\n",
    ")\n",
    "summary_with_lossfnc[\"Threshold for Fold5\"] = fold5_threshold.values()\n",
    "summary_with_lossfnc[\"Avg expected loss\"] = expected_loss_cv.values()\n",
    "summary_with_lossfnc[\"Expected loss for Fold5\"] = fold5_expected_loss.values()\n"
   ]
  },
  {
   "cell_type": "code",
   "execution_count": 280,
   "metadata": {},
   "outputs": [
    {
     "data": {
      "text/html": [
       "<div>\n",
       "<style scoped>\n",
       "    .dataframe tbody tr th:only-of-type {\n",
       "        vertical-align: middle;\n",
       "    }\n",
       "\n",
       "    .dataframe tbody tr th {\n",
       "        vertical-align: top;\n",
       "    }\n",
       "\n",
       "    .dataframe thead th {\n",
       "        text-align: right;\n",
       "    }\n",
       "</style>\n",
       "<table border=\"1\" class=\"dataframe\">\n",
       "  <thead>\n",
       "    <tr style=\"text-align: right;\">\n",
       "      <th></th>\n",
       "      <th>Model</th>\n",
       "      <th>Avg of optimal thresholds</th>\n",
       "      <th>Threshold for Fold5</th>\n",
       "      <th>Avg expected loss</th>\n",
       "      <th>Expected loss for Fold5</th>\n",
       "    </tr>\n",
       "  </thead>\n",
       "  <tbody>\n",
       "    <tr>\n",
       "      <th>0</th>\n",
       "      <td>M1</td>\n",
       "      <td>0.034583</td>\n",
       "      <td>2.613728e-02</td>\n",
       "      <td>0.811824</td>\n",
       "      <td>0.805996</td>\n",
       "    </tr>\n",
       "    <tr>\n",
       "      <th>1</th>\n",
       "      <td>M2</td>\n",
       "      <td>0.026139</td>\n",
       "      <td>2.979983e-03</td>\n",
       "      <td>0.811619</td>\n",
       "      <td>0.805917</td>\n",
       "    </tr>\n",
       "    <tr>\n",
       "      <th>2</th>\n",
       "      <td>M3</td>\n",
       "      <td>0.000042</td>\n",
       "      <td>1.215931e-07</td>\n",
       "      <td>0.812169</td>\n",
       "      <td>0.806706</td>\n",
       "    </tr>\n",
       "    <tr>\n",
       "      <th>3</th>\n",
       "      <td>M4</td>\n",
       "      <td>0.000268</td>\n",
       "      <td>5.630343e-07</td>\n",
       "      <td>0.812105</td>\n",
       "      <td>0.806706</td>\n",
       "    </tr>\n",
       "    <tr>\n",
       "      <th>4</th>\n",
       "      <td>M5</td>\n",
       "      <td>0.000231</td>\n",
       "      <td>1.733103e-06</td>\n",
       "      <td>0.812169</td>\n",
       "      <td>0.806706</td>\n",
       "    </tr>\n",
       "    <tr>\n",
       "      <th>5</th>\n",
       "      <td>LASSO</td>\n",
       "      <td>0.000181</td>\n",
       "      <td>3.042944e-04</td>\n",
       "      <td>0.812011</td>\n",
       "      <td>0.806075</td>\n",
       "    </tr>\n",
       "  </tbody>\n",
       "</table>\n",
       "</div>"
      ],
      "text/plain": [
       "   Model  Avg of optimal thresholds  Threshold for Fold5  Avg expected loss  \\\n",
       "0     M1                   0.034583         2.613728e-02           0.811824   \n",
       "1     M2                   0.026139         2.979983e-03           0.811619   \n",
       "2     M3                   0.000042         1.215931e-07           0.812169   \n",
       "3     M4                   0.000268         5.630343e-07           0.812105   \n",
       "4     M5                   0.000231         1.733103e-06           0.812169   \n",
       "5  LASSO                   0.000181         3.042944e-04           0.812011   \n",
       "\n",
       "   Expected loss for Fold5  \n",
       "0                 0.805996  \n",
       "1                 0.805917  \n",
       "2                 0.806706  \n",
       "3                 0.806706  \n",
       "4                 0.806706  \n",
       "5                 0.806075  "
      ]
     },
     "execution_count": 280,
     "metadata": {},
     "output_type": "execute_result"
    }
   ],
   "source": [
    "summary_with_lossfnc"
   ]
  },
  {
   "cell_type": "markdown",
   "metadata": {},
   "source": [
    "Create loss plot based on Fold5 in CV "
   ]
  },
  {
   "cell_type": "code",
   "execution_count": 283,
   "metadata": {},
   "outputs": [
    {
     "data": {
      "image/png": "[encoded data removed]"
     },
     "metadata": {
      "image/png": {
       "height": 480,
       "width": 640
      }
     },
     "output_type": "display_data"
    }
   ],
   "source": [
    "model_to_plot = \"M4\"  # select model to plot\n",
    "create_loss_plot(\n",
    "    fold5_all_coords[model_to_plot],\n",
    "    fold5_threshold[model_to_plot],\n",
    "    fold5_expected_loss[model_to_plot],\n",
    ")"
   ]
  },
  {
   "cell_type": "code",
   "execution_count": 284,
   "metadata": {},
   "outputs": [
    {
     "name": "stdout",
     "output_type": "stream",
     "text": [
      "Min probability: 5.211201890323784e-07\n",
      "Max probability: 0.8944021994465812\n",
      "Mean probability: 0.1880954921243785\n"
     ]
    }
   ],
   "source": [
    "\n",
    "print(\"Min probability:\", np.min(data_holdout[\"best_logit_pred_proba\"]))\n",
    "print(\"Max probability:\", np.max(data_holdout[\"best_logit_pred_proba\"]))\n",
    "print(\"Mean probability:\", np.mean(data_holdout[\"best_logit_pred_proba\"]))\n"
   ]
  },
  {
   "cell_type": "markdown",
   "metadata": {},
   "source": [
    "Create roc plot plot based on Fold5 in CV"
   ]
  },
  {
   "cell_type": "code",
   "execution_count": 286,
   "metadata": {},
   "outputs": [
    {
     "data": {
      "image/png": "[encoded data removed]"
     },
     "metadata": {
      "image/png": {
       "height": 480,
       "width": 640
      }
     },
     "output_type": "display_data"
    }
   ],
   "source": [
    "create_roc_plot_with_optimal(\n",
    "    fold5_all_coords[model_to_plot], fold5_threshold[model_to_plot]\n",
    ")\n"
   ]
  },
  {
   "cell_type": "markdown",
   "metadata": {},
   "source": [
    "Let's see our chosen model, M4's holdout expected loss"
   ]
  },
  {
   "cell_type": "code",
   "execution_count": 291,
   "metadata": {},
   "outputs": [
    {
     "data": {
      "text/plain": [
       "0.814"
      ]
     },
     "execution_count": 291,
     "metadata": {},
     "output_type": "execute_result"
    }
   ],
   "source": [
    "best_logit_optimal_treshold = best_thresholds_cv[\"M3\"]\n",
    "\n",
    "# Get expected loss on holdout\n",
    "holdout_treshold = np.where(\n",
    "    data_holdout[\"best_logit_pred_proba\"] < best_logit_optimal_treshold, 0, 1\n",
    ")\n",
    "tn, fp, fn, tp = confusion_matrix(\n",
    "    data_holdout[\"high_growth\"], holdout_treshold, labels=[0, 1]\n",
    ").ravel()\n",
    "expected_loss_holdout = (fp * FP + fn * FN) / len(data_holdout[\"high_growth\"])\n",
    "round(expected_loss_holdout, 3)"
   ]
  },
  {
   "cell_type": "markdown",
   "metadata": {},
   "source": [
    "CM on holdout"
   ]
  },
  {
   "cell_type": "code",
   "execution_count": 293,
   "metadata": {},
   "outputs": [
    {
     "data": {
      "text/html": [
       "<div>\n",
       "<style scoped>\n",
       "    .dataframe tbody tr th:only-of-type {\n",
       "        vertical-align: middle;\n",
       "    }\n",
       "\n",
       "    .dataframe tbody tr th {\n",
       "        vertical-align: top;\n",
       "    }\n",
       "\n",
       "    .dataframe thead th {\n",
       "        text-align: right;\n",
       "    }\n",
       "</style>\n",
       "<table border=\"1\" class=\"dataframe\">\n",
       "  <thead>\n",
       "    <tr style=\"text-align: right;\">\n",
       "      <th></th>\n",
       "      <th>Predicted no high_growth</th>\n",
       "      <th>Predicted high_growth</th>\n",
       "    </tr>\n",
       "  </thead>\n",
       "  <tbody>\n",
       "    <tr>\n",
       "      <th>Actual no high_growth</th>\n",
       "      <td>7</td>\n",
       "      <td>12902</td>\n",
       "    </tr>\n",
       "    <tr>\n",
       "      <th>Actual high_growth</th>\n",
       "      <td>0</td>\n",
       "      <td>2936</td>\n",
       "    </tr>\n",
       "  </tbody>\n",
       "</table>\n",
       "</div>"
      ],
      "text/plain": [
       "                       Predicted no high_growth  Predicted high_growth\n",
       "Actual no high_growth                         7                  12902\n",
       "Actual high_growth                            0                   2936"
      ]
     },
     "execution_count": 293,
     "metadata": {},
     "output_type": "execute_result"
    }
   ],
   "source": [
    "cm_object3 = confusion_matrix(data_holdout[\"high_growth\"], holdout_treshold, labels=[0, 1])\n",
    "cm3 = pd.DataFrame(\n",
    "    cm_object3,\n",
    "    index=[\"Actual no high_growth\", \"Actual high_growth\"],\n",
    "    columns=[\"Predicted no high_growth\", \"Predicted high_growth\"],\n",
    ")\n",
    "cm3"
   ]
  },
  {
   "cell_type": "markdown",
   "metadata": {},
   "source": [
    "# PREDICTION WITH RANDOM FOREST"
   ]
  },
  {
   "cell_type": "code",
   "execution_count": 295,
   "metadata": {},
   "outputs": [],
   "source": [
    "y_train, rfvars_train = patsy.dmatrices(\"high_growth~\" + \"+\".join(rfvars), data_train)\n",
    "y_holdout, rfvars_holdout = patsy.dmatrices(\"high_growth~\" + \"+\".join(rfvars), data_holdout)"
   ]
  },
  {
   "cell_type": "markdown",
   "metadata": {},
   "source": [
    "## Probability forest\n",
    "\n",
    "Split by gini, ratio of 1's in each tree, average over trees"
   ]
  },
  {
   "cell_type": "markdown",
   "metadata": {},
   "source": [
    "Unfortunately, due to issues with computing power we had to scale down this model."
   ]
  },
  {
   "cell_type": "code",
   "execution_count": 324,
   "metadata": {},
   "outputs": [],
   "source": [
    "grid = {\n",
    "    \"max_features\": [5, 7],\n",
    "    \"criterion\": [\"gini\"],\n",
    "    \"min_samples_split\": [11, 16],\n",
    "} "
   ]
  },
  {
   "cell_type": "markdown",
   "metadata": {},
   "source": [
    "5 fold cross validation"
   ]
  },
  {
   "cell_type": "code",
   "execution_count": 327,
   "metadata": {},
   "outputs": [],
   "source": [
    "prob_forest = RandomForestClassifier(random_state=42, n_estimators=100, oob_score=True)\n",
    "prob_forest_grid = GridSearchCV(\n",
    "    prob_forest,\n",
    "    grid, \n",
    "    cv=k,\n",
    "    refit=\"roc_auc\",\n",
    "    scoring=[\"roc_auc\", \"neg_brier_score\"],\n",
    ")"
   ]
  },
  {
   "cell_type": "code",
   "execution_count": 328,
   "metadata": {},
   "outputs": [],
   "source": [
    "prob_forest_fit = prob_forest_grid.fit(rfvars_train, y_train)"
   ]
  },
  {
   "cell_type": "markdown",
   "metadata": {},
   "source": [
    "Create CV summary table"
   ]
  },
  {
   "cell_type": "code",
   "execution_count": 331,
   "metadata": {},
   "outputs": [
    {
     "data": {
      "text/html": [
       "<div>\n",
       "<style scoped>\n",
       "    .dataframe tbody tr th:only-of-type {\n",
       "        vertical-align: middle;\n",
       "    }\n",
       "\n",
       "    .dataframe tbody tr th {\n",
       "        vertical-align: top;\n",
       "    }\n",
       "\n",
       "    .dataframe thead th {\n",
       "        text-align: right;\n",
       "    }\n",
       "</style>\n",
       "<table border=\"1\" class=\"dataframe\">\n",
       "  <thead>\n",
       "    <tr style=\"text-align: right;\">\n",
       "      <th></th>\n",
       "      <th>max_features</th>\n",
       "      <th>min_samples_split</th>\n",
       "      <th>cv_auc</th>\n",
       "      <th>cv_rmse</th>\n",
       "    </tr>\n",
       "  </thead>\n",
       "  <tbody>\n",
       "    <tr>\n",
       "      <th>0</th>\n",
       "      <td>5</td>\n",
       "      <td>11</td>\n",
       "      <td>0.837613</td>\n",
       "      <td>0.347599</td>\n",
       "    </tr>\n",
       "    <tr>\n",
       "      <th>1</th>\n",
       "      <td>5</td>\n",
       "      <td>16</td>\n",
       "      <td>0.826591</td>\n",
       "      <td>0.350929</td>\n",
       "    </tr>\n",
       "    <tr>\n",
       "      <th>2</th>\n",
       "      <td>7</td>\n",
       "      <td>11</td>\n",
       "      <td>0.839858</td>\n",
       "      <td>0.345756</td>\n",
       "    </tr>\n",
       "    <tr>\n",
       "      <th>3</th>\n",
       "      <td>7</td>\n",
       "      <td>16</td>\n",
       "      <td>0.828739</td>\n",
       "      <td>0.349144</td>\n",
       "    </tr>\n",
       "  </tbody>\n",
       "</table>\n",
       "</div>"
      ],
      "text/plain": [
       "  max_features min_samples_split    cv_auc   cv_rmse\n",
       "0            5                11  0.837613  0.347599\n",
       "1            5                16  0.826591  0.350929\n",
       "2            7                11  0.839858  0.345756\n",
       "3            7                16  0.828739  0.349144"
      ]
     },
     "execution_count": 331,
     "metadata": {},
     "output_type": "execute_result"
    }
   ],
   "source": [
    "prob_forest_cv_results = pd.DataFrame(\n",
    "    {\n",
    "        \"max_features\": prob_forest_fit.cv_results_[\"param_max_features\"],\n",
    "        \"min_samples_split\": prob_forest_fit.cv_results_[\"param_min_samples_split\"],\n",
    "        \"cv_auc\": prob_forest_fit.cv_results_[\"mean_test_roc_auc\"],\n",
    "        \"cv_rmse\": np.sqrt(\n",
    "            prob_forest_fit.cv_results_[\"mean_test_neg_brier_score\"] * -1\n",
    "        ),\n",
    "    }\n",
    ")\n",
    "\n",
    "prob_forest_cv_results"
   ]
  },
  {
   "cell_type": "markdown",
   "metadata": {},
   "source": [
    "Obtain optimal parameter values"
   ]
  },
  {
   "cell_type": "code",
   "execution_count": 333,
   "metadata": {},
   "outputs": [
    {
     "data": {
      "text/plain": [
       "{'criterion': 'gini', 'max_features': 7, 'min_samples_split': 11}"
      ]
     },
     "execution_count": 333,
     "metadata": {},
     "output_type": "execute_result"
    }
   ],
   "source": [
    "best_mtry = prob_forest_fit.best_params_[\"max_features\"]\n",
    "best_min_node_size = prob_forest_fit.best_params_[\"min_samples_split\"]\n",
    "prob_forest_fit.best_params_\n"
   ]
  },
  {
   "cell_type": "markdown",
   "metadata": {},
   "source": [
    "Get average (ie over the folds) RMSE and AUC"
   ]
  },
  {
   "cell_type": "code",
   "execution_count": 335,
   "metadata": {},
   "outputs": [],
   "source": [
    "prob_forest_best_results = prob_forest_cv_results[\n",
    "    (prob_forest_cv_results.max_features == best_mtry)\n",
    "    & (prob_forest_cv_results.min_samples_split == best_min_node_size)\n",
    "]\n",
    "prob_forest_best_results_index = prob_forest_best_results.index.values[0]"
   ]
  },
  {
   "cell_type": "code",
   "execution_count": 336,
   "metadata": {},
   "outputs": [
    {
     "data": {
      "text/html": [
       "<div>\n",
       "<style scoped>\n",
       "    .dataframe tbody tr th:only-of-type {\n",
       "        vertical-align: middle;\n",
       "    }\n",
       "\n",
       "    .dataframe tbody tr th {\n",
       "        vertical-align: top;\n",
       "    }\n",
       "\n",
       "    .dataframe thead th {\n",
       "        text-align: right;\n",
       "    }\n",
       "</style>\n",
       "<table border=\"1\" class=\"dataframe\">\n",
       "  <thead>\n",
       "    <tr style=\"text-align: right;\">\n",
       "      <th></th>\n",
       "      <th>Number of Coefficients</th>\n",
       "      <th>CV RMSE</th>\n",
       "      <th>CV AUC</th>\n",
       "    </tr>\n",
       "  </thead>\n",
       "  <tbody>\n",
       "    <tr>\n",
       "      <th>M1</th>\n",
       "      <td>13.0</td>\n",
       "      <td>0.385421</td>\n",
       "      <td>0.626675</td>\n",
       "    </tr>\n",
       "    <tr>\n",
       "      <th>M2</th>\n",
       "      <td>33.0</td>\n",
       "      <td>0.384597</td>\n",
       "      <td>0.625130</td>\n",
       "    </tr>\n",
       "    <tr>\n",
       "      <th>M3</th>\n",
       "      <td>60.0</td>\n",
       "      <td>0.384132</td>\n",
       "      <td>0.634248</td>\n",
       "    </tr>\n",
       "    <tr>\n",
       "      <th>M4</th>\n",
       "      <td>90.0</td>\n",
       "      <td>0.383534</td>\n",
       "      <td>0.641523</td>\n",
       "    </tr>\n",
       "    <tr>\n",
       "      <th>M5</th>\n",
       "      <td>117.0</td>\n",
       "      <td>0.383900</td>\n",
       "      <td>0.636605</td>\n",
       "    </tr>\n",
       "    <tr>\n",
       "      <th>LASSO</th>\n",
       "      <td>103.0</td>\n",
       "      <td>0.380511</td>\n",
       "      <td>0.660882</td>\n",
       "    </tr>\n",
       "    <tr>\n",
       "      <th>RF</th>\n",
       "      <td>n.a.</td>\n",
       "      <td>0.345756</td>\n",
       "      <td>0.839858</td>\n",
       "    </tr>\n",
       "  </tbody>\n",
       "</table>\n",
       "</div>"
      ],
      "text/plain": [
       "      Number of Coefficients   CV RMSE    CV AUC\n",
       "M1                      13.0  0.385421  0.626675\n",
       "M2                      33.0  0.384597  0.625130\n",
       "M3                      60.0  0.384132  0.634248\n",
       "M4                      90.0  0.383534  0.641523\n",
       "M5                     117.0  0.383900  0.636605\n",
       "LASSO                  103.0  0.380511  0.660882\n",
       "RF                      n.a.  0.345756  0.839858"
      ]
     },
     "execution_count": 336,
     "metadata": {},
     "output_type": "execute_result"
    }
   ],
   "source": [
    "summary.loc[\"RF\", \"Number of Coefficients\"] = \"n.a.\"\n",
    "summary.loc[\"RF\", \"CV RMSE\"] = prob_forest_best_results[\"cv_rmse\"].values[0]\n",
    "summary.loc[\"RF\", \"CV AUC\"] = prob_forest_best_results[\"cv_auc\"].values[0]\n",
    "summary"
   ]
  },
  {
   "cell_type": "markdown",
   "metadata": {},
   "source": [
    "Extract fold level RMSE and AUC"
   ]
  },
  {
   "cell_type": "code",
   "execution_count": 338,
   "metadata": {},
   "outputs": [],
   "source": [
    "CV_RMSE_folds[\"RF\"] = np.sqrt(\n",
    "    pd.DataFrame(prob_forest_fit.cv_results_)\n",
    "    .filter(like=\"_test_neg_brier_score\")\n",
    "    .loc[lambda x: x[\"rank_test_neg_brier_score\"] == 1]\n",
    "    .filter(like=\"split\")\n",
    "    .values[0]\n",
    "    * -1\n",
    ")\n",
    "CV_AUC_folds[\"RF\"] = (\n",
    "    pd.DataFrame(prob_forest_fit.cv_results_)\n",
    "    .filter(like=\"_test_roc_auc\")\n",
    "    .loc[lambda x: x[\"rank_test_roc_auc\"] == 1]\n",
    "    .filter(like=\"split\")\n",
    "    .values[0]\n",
    ")"
   ]
  },
  {
   "cell_type": "markdown",
   "metadata": {},
   "source": [
    "Take a look at foldwise RMSE and AUC"
   ]
  },
  {
   "cell_type": "code",
   "execution_count": 340,
   "metadata": {},
   "outputs": [
    {
     "data": {
      "text/html": [
       "<div>\n",
       "<style scoped>\n",
       "    .dataframe tbody tr th:only-of-type {\n",
       "        vertical-align: middle;\n",
       "    }\n",
       "\n",
       "    .dataframe tbody tr th {\n",
       "        vertical-align: top;\n",
       "    }\n",
       "\n",
       "    .dataframe thead th {\n",
       "        text-align: right;\n",
       "    }\n",
       "</style>\n",
       "<table border=\"1\" class=\"dataframe\">\n",
       "  <thead>\n",
       "    <tr style=\"text-align: right;\">\n",
       "      <th></th>\n",
       "      <th>M1</th>\n",
       "      <th>M2</th>\n",
       "      <th>M3</th>\n",
       "      <th>M4</th>\n",
       "      <th>M5</th>\n",
       "      <th>LASSO</th>\n",
       "      <th>RF</th>\n",
       "    </tr>\n",
       "  </thead>\n",
       "  <tbody>\n",
       "    <tr>\n",
       "      <th>0</th>\n",
       "      <td>0.386917</td>\n",
       "      <td>0.384960</td>\n",
       "      <td>0.382337</td>\n",
       "      <td>0.381716</td>\n",
       "      <td>0.382256</td>\n",
       "      <td>0.378438</td>\n",
       "      <td>0.343914</td>\n",
       "    </tr>\n",
       "    <tr>\n",
       "      <th>1</th>\n",
       "      <td>0.380790</td>\n",
       "      <td>0.379745</td>\n",
       "      <td>0.382701</td>\n",
       "      <td>0.381555</td>\n",
       "      <td>0.382405</td>\n",
       "      <td>0.378471</td>\n",
       "      <td>0.344266</td>\n",
       "    </tr>\n",
       "    <tr>\n",
       "      <th>2</th>\n",
       "      <td>0.387790</td>\n",
       "      <td>0.387244</td>\n",
       "      <td>0.385749</td>\n",
       "      <td>0.385126</td>\n",
       "      <td>0.385099</td>\n",
       "      <td>0.382185</td>\n",
       "      <td>0.347271</td>\n",
       "    </tr>\n",
       "    <tr>\n",
       "      <th>3</th>\n",
       "      <td>0.385425</td>\n",
       "      <td>0.386156</td>\n",
       "      <td>0.384724</td>\n",
       "      <td>0.384776</td>\n",
       "      <td>0.385078</td>\n",
       "      <td>0.381912</td>\n",
       "      <td>0.346104</td>\n",
       "    </tr>\n",
       "    <tr>\n",
       "      <th>4</th>\n",
       "      <td>0.386184</td>\n",
       "      <td>0.384880</td>\n",
       "      <td>0.385151</td>\n",
       "      <td>0.384497</td>\n",
       "      <td>0.384662</td>\n",
       "      <td>0.381547</td>\n",
       "      <td>0.347210</td>\n",
       "    </tr>\n",
       "  </tbody>\n",
       "</table>\n",
       "</div>"
      ],
      "text/plain": [
       "         M1        M2        M3        M4        M5     LASSO        RF\n",
       "0  0.386917  0.384960  0.382337  0.381716  0.382256  0.378438  0.343914\n",
       "1  0.380790  0.379745  0.382701  0.381555  0.382405  0.378471  0.344266\n",
       "2  0.387790  0.387244  0.385749  0.385126  0.385099  0.382185  0.347271\n",
       "3  0.385425  0.386156  0.384724  0.384776  0.385078  0.381912  0.346104\n",
       "4  0.386184  0.384880  0.385151  0.384497  0.384662  0.381547  0.347210"
      ]
     },
     "execution_count": 340,
     "metadata": {},
     "output_type": "execute_result"
    }
   ],
   "source": [
    "pd.DataFrame(CV_RMSE_folds)"
   ]
  },
  {
   "cell_type": "code",
   "execution_count": 341,
   "metadata": {},
   "outputs": [
    {
     "data": {
      "text/html": [
       "<div>\n",
       "<style scoped>\n",
       "    .dataframe tbody tr th:only-of-type {\n",
       "        vertical-align: middle;\n",
       "    }\n",
       "\n",
       "    .dataframe tbody tr th {\n",
       "        vertical-align: top;\n",
       "    }\n",
       "\n",
       "    .dataframe thead th {\n",
       "        text-align: right;\n",
       "    }\n",
       "</style>\n",
       "<table border=\"1\" class=\"dataframe\">\n",
       "  <thead>\n",
       "    <tr style=\"text-align: right;\">\n",
       "      <th></th>\n",
       "      <th>M1</th>\n",
       "      <th>M2</th>\n",
       "      <th>M3</th>\n",
       "      <th>M4</th>\n",
       "      <th>M5</th>\n",
       "      <th>LASSO</th>\n",
       "      <th>RF</th>\n",
       "    </tr>\n",
       "  </thead>\n",
       "  <tbody>\n",
       "    <tr>\n",
       "      <th>0</th>\n",
       "      <td>0.617930</td>\n",
       "      <td>0.618882</td>\n",
       "      <td>0.634679</td>\n",
       "      <td>0.643249</td>\n",
       "      <td>0.635298</td>\n",
       "      <td>0.663277</td>\n",
       "      <td>0.844985</td>\n",
       "    </tr>\n",
       "    <tr>\n",
       "      <th>1</th>\n",
       "      <td>0.630564</td>\n",
       "      <td>0.635820</td>\n",
       "      <td>0.631174</td>\n",
       "      <td>0.641943</td>\n",
       "      <td>0.632672</td>\n",
       "      <td>0.662817</td>\n",
       "      <td>0.839429</td>\n",
       "    </tr>\n",
       "    <tr>\n",
       "      <th>2</th>\n",
       "      <td>0.629978</td>\n",
       "      <td>0.627959</td>\n",
       "      <td>0.640376</td>\n",
       "      <td>0.645711</td>\n",
       "      <td>0.647003</td>\n",
       "      <td>0.664731</td>\n",
       "      <td>0.841099</td>\n",
       "    </tr>\n",
       "    <tr>\n",
       "      <th>3</th>\n",
       "      <td>0.628895</td>\n",
       "      <td>0.618074</td>\n",
       "      <td>0.628628</td>\n",
       "      <td>0.634483</td>\n",
       "      <td>0.630148</td>\n",
       "      <td>0.654196</td>\n",
       "      <td>0.836859</td>\n",
       "    </tr>\n",
       "    <tr>\n",
       "      <th>4</th>\n",
       "      <td>0.626008</td>\n",
       "      <td>0.624914</td>\n",
       "      <td>0.636385</td>\n",
       "      <td>0.642232</td>\n",
       "      <td>0.637904</td>\n",
       "      <td>0.659390</td>\n",
       "      <td>0.836919</td>\n",
       "    </tr>\n",
       "  </tbody>\n",
       "</table>\n",
       "</div>"
      ],
      "text/plain": [
       "         M1        M2        M3        M4        M5     LASSO        RF\n",
       "0  0.617930  0.618882  0.634679  0.643249  0.635298  0.663277  0.844985\n",
       "1  0.630564  0.635820  0.631174  0.641943  0.632672  0.662817  0.839429\n",
       "2  0.629978  0.627959  0.640376  0.645711  0.647003  0.664731  0.841099\n",
       "3  0.628895  0.618074  0.628628  0.634483  0.630148  0.654196  0.836859\n",
       "4  0.626008  0.624914  0.636385  0.642232  0.637904  0.659390  0.836919"
      ]
     },
     "execution_count": 341,
     "metadata": {},
     "output_type": "execute_result"
    }
   ],
   "source": [
    "pd.DataFrame(CV_AUC_folds)"
   ]
  },
  {
   "cell_type": "markdown",
   "metadata": {},
   "source": [
    "Now use loss function and search for best thresholds and expected loss over folds "
   ]
  },
  {
   "cell_type": "code",
   "execution_count": 343,
   "metadata": {},
   "outputs": [],
   "source": [
    "best_thresholds = list()\n",
    "expected_loss = list()\n",
    "rfvars_train = pd.DataFrame(rfvars_train)\n",
    "\n",
    "fold = 0\n",
    "for train_index, test_index in k.split(rfvars_train):\n",
    "    X_fold = rfvars_train.iloc[test_index, :]\n",
    "    y_fold = data_train[\"high_growth\"].iloc[test_index]\n",
    "\n",
    "    X_fold_train = rfvars_train.iloc[train_index, :]\n",
    "    y_fold_train = data_train[\"high_growth\"].iloc[train_index]\n",
    "\n",
    "    prob_forest_best = RandomForestClassifier(\n",
    "        random_state=42,\n",
    "        n_estimators=100,\n",
    "        oob_score=True,\n",
    "        criterion=\"gini\",\n",
    "        max_features=best_mtry,\n",
    "        min_samples_split=best_min_node_size,\n",
    "    )\n",
    "    prob_forest_best_fold = prob_forest_best.fit(X_fold_train, y_fold_train)\n",
    "    pred_fold = prob_forest_best_fold.predict_proba(X_fold)[:, 1]\n",
    "\n",
    "    false_pos_rate, true_pos_rate, threshold = roc_curve(y_fold, pred_fold)\n",
    "    best_threshold = sorted(\n",
    "        list(\n",
    "            zip(\n",
    "                np.abs(\n",
    "                    true_pos_rate\n",
    "                    + (1 - prevelance) / (cost * prevelance) * (1 - false_pos_rate)\n",
    "                ),\n",
    "                threshold,\n",
    "            )\n",
    "        ),\n",
    "        key=lambda x: x[0],\n",
    "        reverse=True,\n",
    "    )[0][1]\n",
    "    best_thresholds.append(best_threshold)\n",
    "    threshold_prediction = np.where(pred_fold < best_threshold, 0, 1)\n",
    "    tn, fp, fn, tp = confusion_matrix(\n",
    "        y_fold, threshold_prediction, labels=[0, 1]\n",
    "    ).ravel()\n",
    "    curr_exp_loss = (fp * FP + fn * FN) / len(y_fold)\n",
    "    expected_loss.append(curr_exp_loss)\n",
    "\n",
    "fold5_threshold_rf = best_threshold\n",
    "fold5_expected_loss_rf = curr_exp_loss\n",
    "\n",
    "all_coords_rf = pd.DataFrame(\n",
    "    {\n",
    "        \"false_pos\": false_pos_rate * sum(y_fold == 0),\n",
    "        \"true_pos\": true_pos_rate * sum(y_fold == 1),\n",
    "        \"false_neg\": sum(y_fold == 1) - true_pos_rate * sum(y_fold == 1),\n",
    "        \"true_neg\": sum(y_fold == 0) - false_pos_rate * sum(y_fold == 0),\n",
    "        \"pos\": sum(y_fold == 1),\n",
    "        \"neg\": sum(y_fold == 0),\n",
    "        \"n\": len(y_fold),\n",
    "        \"thresholds\": threshold,\n",
    "    }\n",
    ")\n"
   ]
  },
  {
   "cell_type": "code",
   "execution_count": 344,
   "metadata": {},
   "outputs": [],
   "source": [
    "expected_loss_cv[\"RF\"] = np.mean(expected_loss)\n",
    "best_thresholds_cv[\"RF\"] = np.mean(best_thresholds)\n"
   ]
  },
  {
   "cell_type": "code",
   "execution_count": 345,
   "metadata": {},
   "outputs": [
    {
     "data": {
      "text/html": [
       "<div>\n",
       "<style scoped>\n",
       "    .dataframe tbody tr th:only-of-type {\n",
       "        vertical-align: middle;\n",
       "    }\n",
       "\n",
       "    .dataframe tbody tr th {\n",
       "        vertical-align: top;\n",
       "    }\n",
       "\n",
       "    .dataframe thead th {\n",
       "        text-align: right;\n",
       "    }\n",
       "</style>\n",
       "<table border=\"1\" class=\"dataframe\">\n",
       "  <thead>\n",
       "    <tr style=\"text-align: right;\">\n",
       "      <th></th>\n",
       "      <th>CV RMSE</th>\n",
       "      <th>CV AUC</th>\n",
       "      <th>Avg of optimal thresholds</th>\n",
       "      <th>Threshold for Fold5</th>\n",
       "      <th>Avg expected loss</th>\n",
       "      <th>Expected loss for Fold5</th>\n",
       "    </tr>\n",
       "  </thead>\n",
       "  <tbody>\n",
       "    <tr>\n",
       "      <th>0</th>\n",
       "      <td>0.346</td>\n",
       "      <td>0.84</td>\n",
       "      <td>0.052</td>\n",
       "      <td>0.059</td>\n",
       "      <td>0.812</td>\n",
       "      <td>0.806</td>\n",
       "    </tr>\n",
       "  </tbody>\n",
       "</table>\n",
       "</div>"
      ],
      "text/plain": [
       "   CV RMSE  CV AUC  Avg of optimal thresholds  Threshold for Fold5  \\\n",
       "0    0.346    0.84                      0.052                0.059   \n",
       "\n",
       "   Avg expected loss  Expected loss for Fold5  \n",
       "0              0.812                    0.806  "
      ]
     },
     "execution_count": 345,
     "metadata": {},
     "output_type": "execute_result"
    }
   ],
   "source": [
    "rf_summary = pd.DataFrame(\n",
    "    {\n",
    "        \"CV RMSE\": [round(prob_forest_best_results[\"cv_rmse\"].values[0], 3)],\n",
    "        \"CV AUC\": [round(prob_forest_best_results[\"cv_auc\"].values[0], 3)],\n",
    "        \"Avg of optimal thresholds\": [round(best_thresholds_cv[\"RF\"], 3)],\n",
    "        \"Threshold for Fold5\": [round(best_threshold, 3)],\n",
    "        \"Avg expected loss\": [round(expected_loss_cv[\"RF\"], 3)],\n",
    "        \"Expected loss for Fold5\": [round(curr_exp_loss, 3)],\n",
    "    }\n",
    ")\n",
    "\n",
    "rf_summary"
   ]
  },
  {
   "cell_type": "markdown",
   "metadata": {},
   "source": [
    "Create plots based on Fold5 in CV "
   ]
  },
  {
   "cell_type": "code",
   "execution_count": 347,
   "metadata": {},
   "outputs": [
    {
     "data": {
      "image/png": "[encoded data removed]"
     },
     "metadata": {
      "image/png": {
       "height": 480,
       "width": 640
      }
     },
     "output_type": "display_data"
    }
   ],
   "source": [
    "create_loss_plot(all_coords_rf, fold5_threshold_rf, fold5_expected_loss_rf)"
   ]
  },
  {
   "cell_type": "code",
   "execution_count": 348,
   "metadata": {},
   "outputs": [
    {
     "data": {
      "image/png": "[encoded data removed]"
     },
     "metadata": {
      "image/png": {
       "height": 480,
       "width": 640
      }
     },
     "output_type": "display_data"
    }
   ],
   "source": [
    "create_roc_plot_with_optimal(all_coords_rf, fold5_threshold_rf)"
   ]
  },
  {
   "cell_type": "markdown",
   "metadata": {},
   "source": [
    "Take model to holdout and estimate RMSE, AUC and expected loss "
   ]
  },
  {
   "cell_type": "code",
   "execution_count": 350,
   "metadata": {},
   "outputs": [
    {
     "data": {
      "text/plain": [
       "0.339"
      ]
     },
     "execution_count": 350,
     "metadata": {},
     "output_type": "execute_result"
    }
   ],
   "source": [
    "prob_forest_fit_best = prob_forest_fit.best_estimator_\n",
    "rf_predicted_probabilities_holdout = prob_forest_fit_best.predict_proba(rfvars_holdout)[\n",
    "    :, 1\n",
    "]\n",
    "rmse_rf = np.sqrt(mean_squared_error(y_holdout, rf_predicted_probabilities_holdout))\n",
    "round(rmse_rf, 3)\n"
   ]
  },
  {
   "cell_type": "markdown",
   "metadata": {},
   "source": [
    "ROC AUC  on holdout"
   ]
  },
  {
   "cell_type": "code",
   "execution_count": 352,
   "metadata": {},
   "outputs": [
    {
     "data": {
      "text/plain": [
       "0.857"
      ]
     },
     "execution_count": 352,
     "metadata": {},
     "output_type": "execute_result"
    }
   ],
   "source": [
    "auc_rf = roc_auc_score(y_holdout, rf_predicted_probabilities_holdout)\n",
    "round(auc_rf, 3)\n"
   ]
  },
  {
   "cell_type": "markdown",
   "metadata": {},
   "source": [
    " Get expected loss on holdout"
   ]
  },
  {
   "cell_type": "code",
   "execution_count": 354,
   "metadata": {},
   "outputs": [
    {
     "data": {
      "text/plain": [
       "0.748"
      ]
     },
     "execution_count": 354,
     "metadata": {},
     "output_type": "execute_result"
    }
   ],
   "source": [
    "holdout_treshold = np.where(\n",
    "    rf_predicted_probabilities_holdout < best_thresholds_cv[\"RF\"], 0, 1\n",
    ")\n",
    "tn, fp, fn, tp = confusion_matrix(y_holdout, holdout_treshold, labels=[0, 1]).ravel()\n",
    "expected_loss_holdout = (fp * FP + fn * FN) / len(y_holdout)\n",
    "round(expected_loss_holdout, 3)\n"
   ]
  },
  {
   "cell_type": "markdown",
   "metadata": {},
   "source": [
    "## Our own model"
   ]
  },
  {
   "cell_type": "markdown",
   "metadata": {},
   "source": [
    "XGBoost"
   ]
  },
  {
   "cell_type": "code",
   "execution_count": 358,
   "metadata": {},
   "outputs": [
    {
     "name": "stdout",
     "output_type": "stream",
     "text": [
      "XGBoost AUC-ROC Score for Fold: 0.5252986178334415\n",
      "XGBoost RMSE for Fold: 0.39593028290883553\n"
     ]
    }
   ],
   "source": [
    "# Train XGBoost on fold training set\n",
    "xgb_model = xgb.XGBClassifier(\n",
    "    objective=\"binary:logistic\",  # Outputs probabilities\n",
    "    eval_metric=\"logloss\",\n",
    "    use_label_encoder=False,\n",
    "    learning_rate=0.1,\n",
    "    n_estimators=500,  # Adjusted to run faster\n",
    "    max_depth=3,\n",
    "    colsample_bytree=0.8,\n",
    "    subsample=0.8,\n",
    "    random_state=42\n",
    ")\n",
    "\n",
    "xgb_model.fit(X_fold_train, y_fold_train)  # Training on fold-specific data\n",
    "\n",
    "# Predict probabilities on validation fold\n",
    "y_pred_xgb = xgb_model.predict_proba(X_fold)[:, 1]\n",
    "\n",
    "# Evaluate performance using AUC-ROC\n",
    "auc_xgb = roc_auc_score(y_fold, y_pred_xgb)\n",
    "rmse_xgb = np.sqrt(mean_squared_error(y_fold, y_pred_xgb))\n",
    "\n",
    "print(\"XGBoost AUC-ROC Score for Fold:\", auc_xgb)\n",
    "print(\"XGBoost RMSE for Fold:\", rmse_xgb)"
   ]
  },
  {
   "cell_type": "code",
   "execution_count": 380,
   "metadata": {},
   "outputs": [],
   "source": [
    "# Initialize lists to store results across folds\n",
    "best_thresholds_xgb = []\n",
    "expected_loss_xgb = []\n",
    "\n",
    "# Define cost parameters (if applicable)\n",
    "FP = 1  # Cost of false positives (adjust based on your use case)\n",
    "FN = 1  # Cost of false negatives (adjust based on your use case)\n",
    "prevalence = np.mean(y_fold)  # Adjust based on actual prevalence in the dataset\n",
    "\n",
    "# Compute threshold and expected loss\n",
    "false_pos_rate, true_pos_rate, thresholds = roc_curve(y_fold, y_pred_xgb)\n",
    "optimal_threshold = sorted(\n",
    "    zip(\n",
    "        np.abs(true_pos_rate + (1 - prevalence) / (FP * prevalence) * (1 - false_pos_rate)), \n",
    "        thresholds\n",
    "    ),\n",
    "    key=lambda x: x[0], reverse=True\n",
    ")[0][1]\n",
    "\n",
    "best_thresholds_xgb.append(optimal_threshold)\n",
    "\n",
    "# Convert probabilities to binary predictions\n",
    "threshold_prediction = np.where(y_pred_xgb < optimal_threshold, 0, 1)\n",
    "\n",
    "# Compute confusion matrix elements\n",
    "tn, fp, fn, tp = confusion_matrix(y_fold, threshold_prediction, labels=[0, 1]).ravel()\n",
    "\n",
    "# Compute expected loss\n",
    "curr_exp_loss = 1 - (fp * FP + fn * FN) / len(y_fold)\n",
    "expected_loss_xgb.append(curr_exp_loss)\n"
   ]
  },
  {
   "cell_type": "code",
   "execution_count": 382,
   "metadata": {},
   "outputs": [],
   "source": [
    "expected_loss_cv[\"XGB\"] = np.mean(expected_loss_xgb)  # Store average expected loss\n",
    "best_thresholds_cv[\"XGB\"] = np.mean(best_thresholds_xgb)  # Store average threshold\n",
    "CV_RMSE_folds[\"XGB\"] = rmse_xgb  # RMSE from earlier\n",
    "CV_AUC_folds[\"XGB\"] = auc_xgb  # AUC from earlier\n"
   ]
  },
  {
   "cell_type": "code",
   "execution_count": 384,
   "metadata": {},
   "outputs": [],
   "source": [
    "summary.loc[\"XGB\"] = [\n",
    "    \"n.a.\",  # Number of Coefficients (not applicable for tree models)\n",
    "    CV_RMSE_folds[\"XGB\"],  # RMSE for XGBoost\n",
    "    CV_AUC_folds[\"XGB\"],   # AUC for XGBoost\n",
    "    best_thresholds_cv[\"XGB\"],  # Best threshold for XGBoost\n",
    "    expected_loss_cv[\"XGB\"]  # Expected loss for XGBoost\n",
    "]"
   ]
  },
  {
   "cell_type": "markdown",
   "metadata": {},
   "source": [
    "## Final results"
   ]
  },
  {
   "cell_type": "code",
   "execution_count": 387,
   "metadata": {},
   "outputs": [],
   "source": [
    "summary[\"CV treshold\"] = best_thresholds_cv\n",
    "summary[\"CV expected Loss\"] = expected_loss_cv"
   ]
  },
  {
   "cell_type": "code",
   "execution_count": 389,
   "metadata": {},
   "outputs": [
    {
     "data": {
      "text/html": [
       "<div>\n",
       "<style scoped>\n",
       "    .dataframe tbody tr th:only-of-type {\n",
       "        vertical-align: middle;\n",
       "    }\n",
       "\n",
       "    .dataframe tbody tr th {\n",
       "        vertical-align: top;\n",
       "    }\n",
       "\n",
       "    .dataframe thead th {\n",
       "        text-align: right;\n",
       "    }\n",
       "</style>\n",
       "<table border=\"1\" class=\"dataframe\">\n",
       "  <thead>\n",
       "    <tr style=\"text-align: right;\">\n",
       "      <th></th>\n",
       "      <th>Number of Coefficients</th>\n",
       "      <th>CV RMSE</th>\n",
       "      <th>CV AUC</th>\n",
       "      <th>CV treshold</th>\n",
       "      <th>CV expected Loss</th>\n",
       "    </tr>\n",
       "  </thead>\n",
       "  <tbody>\n",
       "    <tr>\n",
       "      <th>M1</th>\n",
       "      <td>13.0</td>\n",
       "      <td>0.385421</td>\n",
       "      <td>0.626675</td>\n",
       "      <td>0.034583</td>\n",
       "      <td>0.811824</td>\n",
       "    </tr>\n",
       "    <tr>\n",
       "      <th>M2</th>\n",
       "      <td>33.0</td>\n",
       "      <td>0.384597</td>\n",
       "      <td>0.625130</td>\n",
       "      <td>0.026139</td>\n",
       "      <td>0.811619</td>\n",
       "    </tr>\n",
       "    <tr>\n",
       "      <th>M3</th>\n",
       "      <td>60.0</td>\n",
       "      <td>0.384132</td>\n",
       "      <td>0.634248</td>\n",
       "      <td>0.000042</td>\n",
       "      <td>0.812169</td>\n",
       "    </tr>\n",
       "    <tr>\n",
       "      <th>M4</th>\n",
       "      <td>90.0</td>\n",
       "      <td>0.383534</td>\n",
       "      <td>0.641523</td>\n",
       "      <td>0.000268</td>\n",
       "      <td>0.812105</td>\n",
       "    </tr>\n",
       "    <tr>\n",
       "      <th>M5</th>\n",
       "      <td>117.0</td>\n",
       "      <td>0.383900</td>\n",
       "      <td>0.636605</td>\n",
       "      <td>0.000231</td>\n",
       "      <td>0.812169</td>\n",
       "    </tr>\n",
       "    <tr>\n",
       "      <th>LASSO</th>\n",
       "      <td>103.0</td>\n",
       "      <td>0.380511</td>\n",
       "      <td>0.660882</td>\n",
       "      <td>0.000181</td>\n",
       "      <td>0.812011</td>\n",
       "    </tr>\n",
       "    <tr>\n",
       "      <th>RF</th>\n",
       "      <td>n.a.</td>\n",
       "      <td>0.345756</td>\n",
       "      <td>0.839858</td>\n",
       "      <td>0.051900</td>\n",
       "      <td>0.812027</td>\n",
       "    </tr>\n",
       "    <tr>\n",
       "      <th>XGB</th>\n",
       "      <td>n.a.</td>\n",
       "      <td>0.395930</td>\n",
       "      <td>0.525299</td>\n",
       "      <td>0.533651</td>\n",
       "      <td>0.806864</td>\n",
       "    </tr>\n",
       "  </tbody>\n",
       "</table>\n",
       "</div>"
      ],
      "text/plain": [
       "      Number of Coefficients   CV RMSE    CV AUC  CV treshold  \\\n",
       "M1                      13.0  0.385421  0.626675     0.034583   \n",
       "M2                      33.0  0.384597  0.625130     0.026139   \n",
       "M3                      60.0  0.384132  0.634248     0.000042   \n",
       "M4                      90.0  0.383534  0.641523     0.000268   \n",
       "M5                     117.0  0.383900  0.636605     0.000231   \n",
       "LASSO                  103.0  0.380511  0.660882     0.000181   \n",
       "RF                      n.a.  0.345756  0.839858     0.051900   \n",
       "XGB                     n.a.  0.395930  0.525299     0.533651   \n",
       "\n",
       "       CV expected Loss  \n",
       "M1             0.811824  \n",
       "M2             0.811619  \n",
       "M3             0.812169  \n",
       "M4             0.812105  \n",
       "M5             0.812169  \n",
       "LASSO          0.812011  \n",
       "RF             0.812027  \n",
       "XGB            0.806864  "
      ]
     },
     "execution_count": 389,
     "metadata": {},
     "output_type": "execute_result"
    }
   ],
   "source": [
    "summary"
   ]
  },
  {
   "cell_type": "markdown",
   "metadata": {},
   "source": [
    "# Task 2"
   ]
  },
  {
   "cell_type": "code",
   "execution_count": 375,
   "metadata": {},
   "outputs": [
    {
     "name": "stdout",
     "output_type": "stream",
     "text": [
      "\n",
      "=== Model Performance Comparison ===\n",
      "        Industry  AUC-ROC  Log Loss\n",
      "0  Manufacturing      1.0  0.008214\n",
      "1       Services      1.0  0.010706\n"
     ]
    }
   ],
   "source": [
    "# Import necessary libraries\n",
    "import pandas as pd\n",
    "import numpy as np\n",
    "import xgboost as xgb\n",
    "from sklearn.model_selection import train_test_split\n",
    "from sklearn.metrics import roc_auc_score, log_loss\n",
    "\n",
    "# Step 1: Categorize Industries into Manufacturing and Services\n",
    "manufacturing_codes = [27, 28, 29, 30, 32, 33, 35]  # Manufacturing industry codes\n",
    "services_codes = [55, 56, 60]  # Services industry codes (repair, accommodation, food)\n",
    "\n",
    "# Assign industry type: 0 = Manufacturing, 1 = Services\n",
    "data_train[\"industry_type\"] = data_train[\"ind2_cat\"].apply(\n",
    "    lambda x: 0 if x in manufacturing_codes else (1 if x in services_codes else np.nan)\n",
    ")\n",
    "\n",
    "# Filter data into Manufacturing and Services\n",
    "manufacturing_data = data_train[data_train[\"industry_type\"] == 0]\n",
    "services_data = data_train[data_train[\"industry_type\"] == 1]\n",
    "\n",
    "# Step 2: Define a Single Loss Function (Log Loss for probability predictions)\n",
    "def compute_loss(y_true, y_pred_probs):\n",
    "    return log_loss(y_true, y_pred_probs)\n",
    "\n",
    "# Step 3: Train an XGBoost Model Separately for Each Group\n",
    "def train_xgboost(X, y):\n",
    "    model = xgb.XGBClassifier(\n",
    "        objective=\"binary:logistic\",\n",
    "        eval_metric=\"logloss\",\n",
    "        enable_categorical=True,  # Allow categorical columns\n",
    "        learning_rate=0.1,\n",
    "        n_estimators=50,  # Adjusted for efficiency\n",
    "        max_depth=3,\n",
    "        colsample_bytree=0.8,\n",
    "        subsample=0.8,\n",
    "        random_state=42\n",
    "    )\n",
    "    model.fit(X, y)\n",
    "    return model\n",
    "\n",
    "\n",
    "# Prepare data: Exclude target variable and industry column\n",
    "X_manuf = manufacturing_data.drop(columns=[\"high_growth\", \"industry_type\", \"ind2_cat\"])\n",
    "y_manuf = manufacturing_data[\"high_growth\"]\n",
    "\n",
    "X_service = services_data.drop(columns=[\"high_growth\", \"industry_type\", \"ind2_cat\"])\n",
    "y_service = services_data[\"high_growth\"]\n",
    "\n",
    "# 🔹 Convert categorical variables to numeric (one-hot encoding)\n",
    "X_manuf = pd.get_dummies(X_manuf, drop_first=True)\n",
    "X_service = pd.get_dummies(X_service, drop_first=True)\n",
    "\n",
    "# Train separate models for Manufacturing and Services\n",
    "xgb_model_manuf = train_xgboost(X_manuf, y_manuf)\n",
    "xgb_model_service = train_xgboost(X_service, y_service)\n",
    "\n",
    "# Step 4: Evaluate and Compare Performance\n",
    "# Get probability predictions\n",
    "y_pred_manuf = xgb_model_manuf.predict_proba(X_manuf)[:, 1]\n",
    "y_pred_service = xgb_model_service.predict_proba(X_service)[:, 1]\n",
    "\n",
    "# Compute AUC and Loss for both models\n",
    "auc_manuf = roc_auc_score(y_manuf, y_pred_manuf)\n",
    "loss_manuf = compute_loss(y_manuf, y_pred_manuf)\n",
    "\n",
    "auc_service = roc_auc_score(y_service, y_pred_service)\n",
    "loss_service = compute_loss(y_service, y_pred_service)\n",
    "\n",
    "# Create a summary table to compare performance\n",
    "comparison_df = pd.DataFrame({\n",
    "    \"Industry\": [\"Manufacturing\", \"Services\"],\n",
    "    \"AUC-ROC\": [auc_manuf, auc_service],\n",
    "    \"Log Loss\": [loss_manuf, loss_service]\n",
    "})\n",
    "\n",
    "# Display final results\n",
    "print(\"\\n=== Model Performance Comparison ===\")\n",
    "print(comparison_df)\n"
   ]
  },
  {
   "cell_type": "code",
   "execution_count": null,
   "metadata": {},
   "outputs": [],
   "source": []
  }
 ],
 "metadata": {
  "kernelspec": {
   "display_name": "Python 3 (ipykernel)",
   "language": "python",
   "name": "python3"
  },
  "language_info": {
   "codemirror_mode": {
    "name": "ipython",
    "version": 3
   },
   "file_extension": ".py",
   "mimetype": "text/x-python",
   "name": "python",
   "nbconvert_exporter": "python",
   "pygments_lexer": "ipython3",
   "version": "3.12.4"
  }
 },
 "nbformat": 4,
 "nbformat_minor": 4
}
